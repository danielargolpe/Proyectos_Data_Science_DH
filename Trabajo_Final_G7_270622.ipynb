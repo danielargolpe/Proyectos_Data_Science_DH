{
 "cells": [
  {
   "cell_type": "markdown",
   "id": "1f411804",
   "metadata": {},
   "source": [
    "#            TRABAJO FINAL - GRUPO 7"
   ]
  },
  {
   "cell_type": "markdown",
   "id": "ada0a01a",
   "metadata": {},
   "source": [
    "# Detección de \"fake news\" mediante técnicas de Machine Learning "
   ]
  },
  {
   "cell_type": "markdown",
   "id": "48531b75",
   "metadata": {},
   "source": [
    "### Integrantes Grupo:\n",
    "    Daniela Rodriguez Golpe\n",
    "    Mercedes Dorado\n",
    "    Matías Chaves\n",
    "    Edgar Wendler\n",
    "    Nashira Calvo"
   ]
  },
  {
   "cell_type": "markdown",
   "id": "e0b0db3d",
   "metadata": {},
   "source": [
    "## Índice \n",
    "\n",
    "1. <a href=\"#1\">Introducción</a>\n",
    "* 1.1 <a href=\"#1.1\">Objetivos</a>\n",
    "* 1.2 <a href=\"#1.2\">Metodología </a>\n",
    "* 1.3 <a href=\"#1.3\">Importamos librerías, Datos y Exploramos </a>\n",
    "\n",
    "2. <a href=\"#2\">Metodología Bag of Words</a>\n",
    "* 2.1 <a href='#2.1'>Construcción de Vocabulario</a>\n",
    "* 2.2 <a href='#2.2'>Transformación Tf_idf</a>\n",
    "\n",
    "3. <a href=\"#3\">División del DS en Train y Test</a>\n",
    "\n",
    "4. <a href=\"#4\">Creación de Modelos de Clasificación </a>\n",
    "* 4.1 <a href='#4.1'>Modelo Naive Bayes</a>\n",
    "* 4.2 <a href='#4.2'>Modelo de Regresión Logística</a>\n",
    "* 4.3 <a href='#4.3'>Modelo de Random Foresta</a>\n",
    "\n",
    "5. <a href=\"#5\">Verificamos decisión de unir noticia y título </a>\n",
    "* 5.1 <a href='#5.1'>Fiteamos Pipeline para Opción 1</a>\n",
    "* 5.2 <a href='#5.2'>Fiteamos Pipeline para Opción 2</a>\n",
    "* 5.3 <a href='#5.3'>Fiteamos Pipeline para Opción 3</a>\n",
    "\n",
    "6. <a href=\"#6\">Conclusiones </a>\n",
    "\n",
    "7. <a href=\"#7\">Referencias </a>\n"
   ]
  },
  {
   "cell_type": "markdown",
   "id": "d6b05825",
   "metadata": {},
   "source": [
    "<a id=\"1\"></a>\n",
    "## 1) Introducción\n",
    "\n",
    "Las noticias falsas (también conocidas como \"fake news\"), son un tipo de noticia diseñada y emitida con la intención deliberada de engañar, inducir a error, manipular decisiones personales o desprestigiar a una determinada entidad o persona (Alonso Valenzuela, 2020). Se divulgan a través de distintos medios, tales como portales de noticas, prensa escrita, radio, televisión y redes sociales. El principal objetivo de esta clase de noticias es la desinformación.\n",
    "\n",
    "Los avances de los últimos años en Inteligencia Artificial, particularmente en el procesamiento del lenguaje\n",
    "natural, han permitido que las máquinas puedan analizar y comprender textos escritos conociendo no sólo las palabras que componen el texto, sino también el contexto en el que aparecen, esto tiene una gran cantidad de aplicaciones, como generación\n",
    "de textos, traducción automática y clasificación de documentos, entre otras.\n",
    "\n",
    "A partir de un dataset que contiene una lista de artículos de los cuales algunos son \"fake news\" nos preguntamos si es posible desarrollar un algoritmo capaz de diferenciar si un artículo se trata de una \"fake news\" o de una noticia real.\n",
    "Se cita en el presente link la fuente del dataset original:\n",
    "\n",
    "https://www.kaggle.com/datasets/clmentbisaillon/fake-and-real-news-dataset?datasetId=572515&language=Python\n"
   ]
  },
  {
   "cell_type": "markdown",
   "id": "4af61f9c",
   "metadata": {},
   "source": [
    "<a id=\"1.1\"></a>\n",
    "## 1.1) Objetivo\n",
    "\n",
    "Desarrollar un sistema de detección de \"fake news\" aplicando diversos métodos de clasificación y realizando un estudio comparativo entre ellos, que permitirá sopesar las ventajas y desventajas de cada uno a fin de determinar cuál es el más apropiado para resolver el problema.<br>   "
   ]
  },
  {
   "cell_type": "markdown",
   "id": "5bb2b03e",
   "metadata": {},
   "source": [
    "<a id=\"1.2\"></a>\n",
    "## 1.2)Metodología\n",
    "\n",
    "El método empleado para alcanzar el objetivo consistió en aplicar las técnicas de Text Mining para descubrir patrones repetitivos, tendencias o reglas que explican el comportamiento del texto contenido en los artículos del dataset. Los datos a utilizar son de tipo texto, de manera que se buscó extraer información sobre el contenido de los textos y representarlo como una matriz de features, a fin de poder aplicar  los algoritmos de machine learning que aprendimos para hacer clasificación durante el curso. Se implementaron un total de 5 modelos y se realizaron comparaciones entre los resultados de accuracy score obtenidos. Para la implementación de estos algoritmos se han utilizado algunas de las librerías más extendidas en el campo del Machine Learning, como scikit-learn, nltk, numpy y pandas, entre otras."
   ]
  },
  {
   "cell_type": "markdown",
   "id": "11e05502",
   "metadata": {},
   "source": [
    "<a id=\"1.3\"></a>\n",
    "### 1.3)Importamos librerías, Datos y Exploramos"
   ]
  },
  {
   "cell_type": "code",
   "execution_count": 1,
   "id": "b5fc2fdd",
   "metadata": {},
   "outputs": [],
   "source": [
    "#importamos librerias\n",
    "\n",
    "import numpy as np\n",
    "import pandas as pd\n",
    "import matplotlib.pyplot as plt\n",
    "import seaborn as sns\n"
   ]
  },
  {
   "cell_type": "code",
   "execution_count": 2,
   "id": "b12a6de2",
   "metadata": {},
   "outputs": [],
   "source": [
    "fake_df = pd.read_csv('data/Fake.csv')\n",
    "real_df = pd.read_csv('data/True.csv')"
   ]
  },
  {
   "cell_type": "code",
   "execution_count": 3,
   "id": "7ed69871",
   "metadata": {},
   "outputs": [
    {
     "data": {
      "text/html": [
       "<div>\n",
       "<style scoped>\n",
       "    .dataframe tbody tr th:only-of-type {\n",
       "        vertical-align: middle;\n",
       "    }\n",
       "\n",
       "    .dataframe tbody tr th {\n",
       "        vertical-align: top;\n",
       "    }\n",
       "\n",
       "    .dataframe thead th {\n",
       "        text-align: right;\n",
       "    }\n",
       "</style>\n",
       "<table border=\"1\" class=\"dataframe\">\n",
       "  <thead>\n",
       "    <tr style=\"text-align: right;\">\n",
       "      <th></th>\n",
       "      <th>title</th>\n",
       "      <th>text</th>\n",
       "      <th>subject</th>\n",
       "      <th>date</th>\n",
       "    </tr>\n",
       "  </thead>\n",
       "  <tbody>\n",
       "    <tr>\n",
       "      <th>0</th>\n",
       "      <td>Donald Trump Sends Out Embarrassing New Year’...</td>\n",
       "      <td>Donald Trump just couldn t wish all Americans ...</td>\n",
       "      <td>News</td>\n",
       "      <td>December 31, 2017</td>\n",
       "    </tr>\n",
       "    <tr>\n",
       "      <th>1</th>\n",
       "      <td>Drunk Bragging Trump Staffer Started Russian ...</td>\n",
       "      <td>House Intelligence Committee Chairman Devin Nu...</td>\n",
       "      <td>News</td>\n",
       "      <td>December 31, 2017</td>\n",
       "    </tr>\n",
       "    <tr>\n",
       "      <th>2</th>\n",
       "      <td>Sheriff David Clarke Becomes An Internet Joke...</td>\n",
       "      <td>On Friday, it was revealed that former Milwauk...</td>\n",
       "      <td>News</td>\n",
       "      <td>December 30, 2017</td>\n",
       "    </tr>\n",
       "    <tr>\n",
       "      <th>3</th>\n",
       "      <td>Trump Is So Obsessed He Even Has Obama’s Name...</td>\n",
       "      <td>On Christmas day, Donald Trump announced that ...</td>\n",
       "      <td>News</td>\n",
       "      <td>December 29, 2017</td>\n",
       "    </tr>\n",
       "    <tr>\n",
       "      <th>4</th>\n",
       "      <td>Pope Francis Just Called Out Donald Trump Dur...</td>\n",
       "      <td>Pope Francis used his annual Christmas Day mes...</td>\n",
       "      <td>News</td>\n",
       "      <td>December 25, 2017</td>\n",
       "    </tr>\n",
       "  </tbody>\n",
       "</table>\n",
       "</div>"
      ],
      "text/plain": [
       "                                               title  \\\n",
       "0   Donald Trump Sends Out Embarrassing New Year’...   \n",
       "1   Drunk Bragging Trump Staffer Started Russian ...   \n",
       "2   Sheriff David Clarke Becomes An Internet Joke...   \n",
       "3   Trump Is So Obsessed He Even Has Obama’s Name...   \n",
       "4   Pope Francis Just Called Out Donald Trump Dur...   \n",
       "\n",
       "                                                text subject  \\\n",
       "0  Donald Trump just couldn t wish all Americans ...    News   \n",
       "1  House Intelligence Committee Chairman Devin Nu...    News   \n",
       "2  On Friday, it was revealed that former Milwauk...    News   \n",
       "3  On Christmas day, Donald Trump announced that ...    News   \n",
       "4  Pope Francis used his annual Christmas Day mes...    News   \n",
       "\n",
       "                date  \n",
       "0  December 31, 2017  \n",
       "1  December 31, 2017  \n",
       "2  December 30, 2017  \n",
       "3  December 29, 2017  \n",
       "4  December 25, 2017  "
      ]
     },
     "execution_count": 3,
     "metadata": {},
     "output_type": "execute_result"
    }
   ],
   "source": [
    "fake_df.head()"
   ]
  },
  {
   "cell_type": "code",
   "execution_count": 4,
   "id": "4af5c32e",
   "metadata": {},
   "outputs": [
    {
     "data": {
      "text/html": [
       "<div>\n",
       "<style scoped>\n",
       "    .dataframe tbody tr th:only-of-type {\n",
       "        vertical-align: middle;\n",
       "    }\n",
       "\n",
       "    .dataframe tbody tr th {\n",
       "        vertical-align: top;\n",
       "    }\n",
       "\n",
       "    .dataframe thead th {\n",
       "        text-align: right;\n",
       "    }\n",
       "</style>\n",
       "<table border=\"1\" class=\"dataframe\">\n",
       "  <thead>\n",
       "    <tr style=\"text-align: right;\">\n",
       "      <th></th>\n",
       "      <th>title</th>\n",
       "      <th>text</th>\n",
       "      <th>subject</th>\n",
       "      <th>date</th>\n",
       "    </tr>\n",
       "  </thead>\n",
       "  <tbody>\n",
       "    <tr>\n",
       "      <th>0</th>\n",
       "      <td>As U.S. budget fight looms, Republicans flip t...</td>\n",
       "      <td>WASHINGTON (Reuters) - The head of a conservat...</td>\n",
       "      <td>politicsNews</td>\n",
       "      <td>December 31, 2017</td>\n",
       "    </tr>\n",
       "    <tr>\n",
       "      <th>1</th>\n",
       "      <td>U.S. military to accept transgender recruits o...</td>\n",
       "      <td>WASHINGTON (Reuters) - Transgender people will...</td>\n",
       "      <td>politicsNews</td>\n",
       "      <td>December 29, 2017</td>\n",
       "    </tr>\n",
       "    <tr>\n",
       "      <th>2</th>\n",
       "      <td>Senior U.S. Republican senator: 'Let Mr. Muell...</td>\n",
       "      <td>WASHINGTON (Reuters) - The special counsel inv...</td>\n",
       "      <td>politicsNews</td>\n",
       "      <td>December 31, 2017</td>\n",
       "    </tr>\n",
       "    <tr>\n",
       "      <th>3</th>\n",
       "      <td>FBI Russia probe helped by Australian diplomat...</td>\n",
       "      <td>WASHINGTON (Reuters) - Trump campaign adviser ...</td>\n",
       "      <td>politicsNews</td>\n",
       "      <td>December 30, 2017</td>\n",
       "    </tr>\n",
       "    <tr>\n",
       "      <th>4</th>\n",
       "      <td>Trump wants Postal Service to charge 'much mor...</td>\n",
       "      <td>SEATTLE/WASHINGTON (Reuters) - President Donal...</td>\n",
       "      <td>politicsNews</td>\n",
       "      <td>December 29, 2017</td>\n",
       "    </tr>\n",
       "  </tbody>\n",
       "</table>\n",
       "</div>"
      ],
      "text/plain": [
       "                                               title  \\\n",
       "0  As U.S. budget fight looms, Republicans flip t...   \n",
       "1  U.S. military to accept transgender recruits o...   \n",
       "2  Senior U.S. Republican senator: 'Let Mr. Muell...   \n",
       "3  FBI Russia probe helped by Australian diplomat...   \n",
       "4  Trump wants Postal Service to charge 'much mor...   \n",
       "\n",
       "                                                text       subject  \\\n",
       "0  WASHINGTON (Reuters) - The head of a conservat...  politicsNews   \n",
       "1  WASHINGTON (Reuters) - Transgender people will...  politicsNews   \n",
       "2  WASHINGTON (Reuters) - The special counsel inv...  politicsNews   \n",
       "3  WASHINGTON (Reuters) - Trump campaign adviser ...  politicsNews   \n",
       "4  SEATTLE/WASHINGTON (Reuters) - President Donal...  politicsNews   \n",
       "\n",
       "                 date  \n",
       "0  December 31, 2017   \n",
       "1  December 29, 2017   \n",
       "2  December 31, 2017   \n",
       "3  December 30, 2017   \n",
       "4  December 29, 2017   "
      ]
     },
     "execution_count": 4,
     "metadata": {},
     "output_type": "execute_result"
    }
   ],
   "source": [
    "real_df.head()"
   ]
  },
  {
   "cell_type": "markdown",
   "id": "94eca123",
   "metadata": {},
   "source": [
    "Creamos una columna llamada 'target' que es '0' para noticias falsas y '1' para noticias reales. Borramos las columnas innecesarias y juntamos ambas bases de datos en uno."
   ]
  },
  {
   "cell_type": "code",
   "execution_count": 5,
   "id": "f7767a96",
   "metadata": {},
   "outputs": [],
   "source": [
    "fake_df['target'] = 0 \n",
    "real_df['target'] = 1"
   ]
  },
  {
   "cell_type": "markdown",
   "id": "c0b92383",
   "metadata": {},
   "source": [
    "Verificamos que la columna subject no aporta valor predictivo porque las categorías no coinciden y esto no le permitiría al modelo tener un accuracy perfecto."
   ]
  },
  {
   "cell_type": "code",
   "execution_count": 6,
   "id": "9ad2bb9f",
   "metadata": {},
   "outputs": [
    {
     "data": {
      "text/plain": [
       "News               9050\n",
       "politics           6841\n",
       "left-news          4459\n",
       "Government News    1570\n",
       "US_News             783\n",
       "Middle-east         778\n",
       "Name: subject, dtype: int64"
      ]
     },
     "execution_count": 6,
     "metadata": {},
     "output_type": "execute_result"
    }
   ],
   "source": [
    "fake_df['subject'].value_counts()"
   ]
  },
  {
   "cell_type": "code",
   "execution_count": 7,
   "id": "11eb9088",
   "metadata": {},
   "outputs": [
    {
     "data": {
      "text/plain": [
       "politicsNews    11272\n",
       "worldnews       10145\n",
       "Name: subject, dtype: int64"
      ]
     },
     "execution_count": 7,
     "metadata": {},
     "output_type": "execute_result"
    }
   ],
   "source": [
    "real_df['subject'].value_counts()"
   ]
  },
  {
   "cell_type": "code",
   "execution_count": 8,
   "id": "86d40781",
   "metadata": {},
   "outputs": [],
   "source": [
    "fake_df.drop(['date', 'subject'], axis=1, inplace=True)\n",
    "real_df.drop(['date', 'subject'], axis=1, inplace=True)"
   ]
  },
  {
   "cell_type": "code",
   "execution_count": 9,
   "id": "86854b36",
   "metadata": {},
   "outputs": [
    {
     "data": {
      "text/html": [
       "<div>\n",
       "<style scoped>\n",
       "    .dataframe tbody tr th:only-of-type {\n",
       "        vertical-align: middle;\n",
       "    }\n",
       "\n",
       "    .dataframe tbody tr th {\n",
       "        vertical-align: top;\n",
       "    }\n",
       "\n",
       "    .dataframe thead th {\n",
       "        text-align: right;\n",
       "    }\n",
       "</style>\n",
       "<table border=\"1\" class=\"dataframe\">\n",
       "  <thead>\n",
       "    <tr style=\"text-align: right;\">\n",
       "      <th></th>\n",
       "      <th>title</th>\n",
       "      <th>text</th>\n",
       "      <th>target</th>\n",
       "    </tr>\n",
       "  </thead>\n",
       "  <tbody>\n",
       "    <tr>\n",
       "      <th>0</th>\n",
       "      <td>Donald Trump Sends Out Embarrassing New Year’...</td>\n",
       "      <td>Donald Trump just couldn t wish all Americans ...</td>\n",
       "      <td>0</td>\n",
       "    </tr>\n",
       "    <tr>\n",
       "      <th>1</th>\n",
       "      <td>Drunk Bragging Trump Staffer Started Russian ...</td>\n",
       "      <td>House Intelligence Committee Chairman Devin Nu...</td>\n",
       "      <td>0</td>\n",
       "    </tr>\n",
       "    <tr>\n",
       "      <th>2</th>\n",
       "      <td>Sheriff David Clarke Becomes An Internet Joke...</td>\n",
       "      <td>On Friday, it was revealed that former Milwauk...</td>\n",
       "      <td>0</td>\n",
       "    </tr>\n",
       "    <tr>\n",
       "      <th>3</th>\n",
       "      <td>Trump Is So Obsessed He Even Has Obama’s Name...</td>\n",
       "      <td>On Christmas day, Donald Trump announced that ...</td>\n",
       "      <td>0</td>\n",
       "    </tr>\n",
       "    <tr>\n",
       "      <th>4</th>\n",
       "      <td>Pope Francis Just Called Out Donald Trump Dur...</td>\n",
       "      <td>Pope Francis used his annual Christmas Day mes...</td>\n",
       "      <td>0</td>\n",
       "    </tr>\n",
       "  </tbody>\n",
       "</table>\n",
       "</div>"
      ],
      "text/plain": [
       "                                               title  \\\n",
       "0   Donald Trump Sends Out Embarrassing New Year’...   \n",
       "1   Drunk Bragging Trump Staffer Started Russian ...   \n",
       "2   Sheriff David Clarke Becomes An Internet Joke...   \n",
       "3   Trump Is So Obsessed He Even Has Obama’s Name...   \n",
       "4   Pope Francis Just Called Out Donald Trump Dur...   \n",
       "\n",
       "                                                text  target  \n",
       "0  Donald Trump just couldn t wish all Americans ...       0  \n",
       "1  House Intelligence Committee Chairman Devin Nu...       0  \n",
       "2  On Friday, it was revealed that former Milwauk...       0  \n",
       "3  On Christmas day, Donald Trump announced that ...       0  \n",
       "4  Pope Francis used his annual Christmas Day mes...       0  "
      ]
     },
     "execution_count": 9,
     "metadata": {},
     "output_type": "execute_result"
    }
   ],
   "source": [
    "df = pd.concat([fake_df, real_df], ignore_index=True, sort=False)\n",
    "df.head()"
   ]
  },
  {
   "cell_type": "code",
   "execution_count": 10,
   "id": "fa3fccc6",
   "metadata": {},
   "outputs": [
    {
     "data": {
      "text/html": [
       "<div>\n",
       "<style scoped>\n",
       "    .dataframe tbody tr th:only-of-type {\n",
       "        vertical-align: middle;\n",
       "    }\n",
       "\n",
       "    .dataframe tbody tr th {\n",
       "        vertical-align: top;\n",
       "    }\n",
       "\n",
       "    .dataframe thead th {\n",
       "        text-align: right;\n",
       "    }\n",
       "</style>\n",
       "<table border=\"1\" class=\"dataframe\">\n",
       "  <thead>\n",
       "    <tr style=\"text-align: right;\">\n",
       "      <th></th>\n",
       "      <th>title</th>\n",
       "      <th>text</th>\n",
       "      <th>target</th>\n",
       "    </tr>\n",
       "  </thead>\n",
       "  <tbody>\n",
       "    <tr>\n",
       "      <th>44893</th>\n",
       "      <td>'Fully committed' NATO backs new U.S. approach...</td>\n",
       "      <td>BRUSSELS (Reuters) - NATO allies on Tuesday we...</td>\n",
       "      <td>1</td>\n",
       "    </tr>\n",
       "    <tr>\n",
       "      <th>44894</th>\n",
       "      <td>LexisNexis withdrew two products from Chinese ...</td>\n",
       "      <td>LONDON (Reuters) - LexisNexis, a provider of l...</td>\n",
       "      <td>1</td>\n",
       "    </tr>\n",
       "    <tr>\n",
       "      <th>44895</th>\n",
       "      <td>Minsk cultural hub becomes haven from authorities</td>\n",
       "      <td>MINSK (Reuters) - In the shadow of disused Sov...</td>\n",
       "      <td>1</td>\n",
       "    </tr>\n",
       "    <tr>\n",
       "      <th>44896</th>\n",
       "      <td>Vatican upbeat on possibility of Pope Francis ...</td>\n",
       "      <td>MOSCOW (Reuters) - Vatican Secretary of State ...</td>\n",
       "      <td>1</td>\n",
       "    </tr>\n",
       "    <tr>\n",
       "      <th>44897</th>\n",
       "      <td>Indonesia to buy $1.14 billion worth of Russia...</td>\n",
       "      <td>JAKARTA (Reuters) - Indonesia will buy 11 Sukh...</td>\n",
       "      <td>1</td>\n",
       "    </tr>\n",
       "  </tbody>\n",
       "</table>\n",
       "</div>"
      ],
      "text/plain": [
       "                                                   title  \\\n",
       "44893  'Fully committed' NATO backs new U.S. approach...   \n",
       "44894  LexisNexis withdrew two products from Chinese ...   \n",
       "44895  Minsk cultural hub becomes haven from authorities   \n",
       "44896  Vatican upbeat on possibility of Pope Francis ...   \n",
       "44897  Indonesia to buy $1.14 billion worth of Russia...   \n",
       "\n",
       "                                                    text  target  \n",
       "44893  BRUSSELS (Reuters) - NATO allies on Tuesday we...       1  \n",
       "44894  LONDON (Reuters) - LexisNexis, a provider of l...       1  \n",
       "44895  MINSK (Reuters) - In the shadow of disused Sov...       1  \n",
       "44896  MOSCOW (Reuters) - Vatican Secretary of State ...       1  \n",
       "44897  JAKARTA (Reuters) - Indonesia will buy 11 Sukh...       1  "
      ]
     },
     "execution_count": 10,
     "metadata": {},
     "output_type": "execute_result"
    }
   ],
   "source": [
    "df.tail()"
   ]
  },
  {
   "cell_type": "code",
   "execution_count": 11,
   "id": "7d7d629f",
   "metadata": {},
   "outputs": [],
   "source": [
    "# Combinamos el 'title' y''text column'\n",
    "\n",
    "df['text'] = df['title'] + df['text']\n",
    "df.drop('title', axis=1, inplace=True)\n"
   ]
  },
  {
   "cell_type": "code",
   "execution_count": 12,
   "id": "d8e910c6",
   "metadata": {},
   "outputs": [
    {
     "data": {
      "text/html": [
       "<div>\n",
       "<style scoped>\n",
       "    .dataframe tbody tr th:only-of-type {\n",
       "        vertical-align: middle;\n",
       "    }\n",
       "\n",
       "    .dataframe tbody tr th {\n",
       "        vertical-align: top;\n",
       "    }\n",
       "\n",
       "    .dataframe thead th {\n",
       "        text-align: right;\n",
       "    }\n",
       "</style>\n",
       "<table border=\"1\" class=\"dataframe\">\n",
       "  <thead>\n",
       "    <tr style=\"text-align: right;\">\n",
       "      <th></th>\n",
       "      <th>text</th>\n",
       "      <th>target</th>\n",
       "    </tr>\n",
       "  </thead>\n",
       "  <tbody>\n",
       "    <tr>\n",
       "      <th>0</th>\n",
       "      <td>Donald Trump Sends Out Embarrassing New Year’...</td>\n",
       "      <td>0</td>\n",
       "    </tr>\n",
       "    <tr>\n",
       "      <th>1</th>\n",
       "      <td>Drunk Bragging Trump Staffer Started Russian ...</td>\n",
       "      <td>0</td>\n",
       "    </tr>\n",
       "    <tr>\n",
       "      <th>2</th>\n",
       "      <td>Sheriff David Clarke Becomes An Internet Joke...</td>\n",
       "      <td>0</td>\n",
       "    </tr>\n",
       "    <tr>\n",
       "      <th>3</th>\n",
       "      <td>Trump Is So Obsessed He Even Has Obama’s Name...</td>\n",
       "      <td>0</td>\n",
       "    </tr>\n",
       "    <tr>\n",
       "      <th>4</th>\n",
       "      <td>Pope Francis Just Called Out Donald Trump Dur...</td>\n",
       "      <td>0</td>\n",
       "    </tr>\n",
       "    <tr>\n",
       "      <th>...</th>\n",
       "      <td>...</td>\n",
       "      <td>...</td>\n",
       "    </tr>\n",
       "    <tr>\n",
       "      <th>44893</th>\n",
       "      <td>'Fully committed' NATO backs new U.S. approach...</td>\n",
       "      <td>1</td>\n",
       "    </tr>\n",
       "    <tr>\n",
       "      <th>44894</th>\n",
       "      <td>LexisNexis withdrew two products from Chinese ...</td>\n",
       "      <td>1</td>\n",
       "    </tr>\n",
       "    <tr>\n",
       "      <th>44895</th>\n",
       "      <td>Minsk cultural hub becomes haven from authorit...</td>\n",
       "      <td>1</td>\n",
       "    </tr>\n",
       "    <tr>\n",
       "      <th>44896</th>\n",
       "      <td>Vatican upbeat on possibility of Pope Francis ...</td>\n",
       "      <td>1</td>\n",
       "    </tr>\n",
       "    <tr>\n",
       "      <th>44897</th>\n",
       "      <td>Indonesia to buy $1.14 billion worth of Russia...</td>\n",
       "      <td>1</td>\n",
       "    </tr>\n",
       "  </tbody>\n",
       "</table>\n",
       "<p>44898 rows × 2 columns</p>\n",
       "</div>"
      ],
      "text/plain": [
       "                                                    text  target\n",
       "0       Donald Trump Sends Out Embarrassing New Year’...       0\n",
       "1       Drunk Bragging Trump Staffer Started Russian ...       0\n",
       "2       Sheriff David Clarke Becomes An Internet Joke...       0\n",
       "3       Trump Is So Obsessed He Even Has Obama’s Name...       0\n",
       "4       Pope Francis Just Called Out Donald Trump Dur...       0\n",
       "...                                                  ...     ...\n",
       "44893  'Fully committed' NATO backs new U.S. approach...       1\n",
       "44894  LexisNexis withdrew two products from Chinese ...       1\n",
       "44895  Minsk cultural hub becomes haven from authorit...       1\n",
       "44896  Vatican upbeat on possibility of Pope Francis ...       1\n",
       "44897  Indonesia to buy $1.14 billion worth of Russia...       1\n",
       "\n",
       "[44898 rows x 2 columns]"
      ]
     },
     "execution_count": 12,
     "metadata": {},
     "output_type": "execute_result"
    }
   ],
   "source": [
    "df"
   ]
  },
  {
   "cell_type": "code",
   "execution_count": 13,
   "id": "4043a630",
   "metadata": {},
   "outputs": [
    {
     "name": "stdout",
     "output_type": "stream",
     "text": [
      "0    52.298543\n",
      "1    47.701457\n",
      "Name: target, dtype: float64\n"
     ]
    },
    {
     "data": {
      "image/png": "[encoded data removed]",
      "text/plain": [
       "<Figure size 432x288 with 1 Axes>"
      ]
     },
     "metadata": {},
     "output_type": "display_data"
    }
   ],
   "source": [
    "# Corroboramos el balance del dataset\n",
    "sns.set_style(\"darkgrid\")\n",
    "sns.countplot(x=df.target);\n",
    "print(df['target'].value_counts(normalize = True)*100)"
   ]
  },
  {
   "cell_type": "code",
   "execution_count": 14,
   "id": "e3e3de95",
   "metadata": {},
   "outputs": [
    {
     "data": {
      "text/plain": [
       "text      0\n",
       "target    0\n",
       "dtype: int64"
      ]
     },
     "execution_count": 14,
     "metadata": {},
     "output_type": "execute_result"
    }
   ],
   "source": [
    "#Verificamos si existen valores nulos\n",
    "df.isna().sum()"
   ]
  },
  {
   "cell_type": "code",
   "execution_count": 15,
   "id": "c081ec6b",
   "metadata": {},
   "outputs": [
    {
     "name": "stdout",
     "output_type": "stream",
     "text": [
      "\n",
      "Hay duplicados?\n",
      "Hay  5793 registros duplicados\n",
      "\n",
      "Quedan registros duplicados? False\n"
     ]
    }
   ],
   "source": [
    "# tratamiento de duplicados\n",
    "print('\\nHay duplicados?')\n",
    "print('Hay ',df.duplicated(['text']).sum(),'registros duplicados')\n",
    "\n",
    "# eliminamos los registros duplicados\n",
    "df.drop_duplicates(['text'], inplace = True,keep='last')\n",
    "\n",
    "print('\\nQuedan registros duplicados?', df.duplicated(['text']).any())"
   ]
  },
  {
   "cell_type": "code",
   "execution_count": 16,
   "id": "b6c1455a",
   "metadata": {},
   "outputs": [
    {
     "name": "stdout",
     "output_type": "stream",
     "text": [
      "1    54.205345\n",
      "0    45.794655\n",
      "Name: target, dtype: float64\n"
     ]
    },
    {
     "data": {
      "image/png": "[encoded data removed]",
      "text/plain": [
       "<Figure size 432x288 with 1 Axes>"
      ]
     },
     "metadata": {},
     "output_type": "display_data"
    }
   ],
   "source": [
    "# Corroboramos el balance del dataset luego del drop de duplicados\n",
    "sns.set_style(\"darkgrid\")\n",
    "sns.countplot(x=df.target);\n",
    "print(df['target'].value_counts(normalize = True)*100)"
   ]
  },
  {
   "cell_type": "markdown",
   "id": "eece087a",
   "metadata": {},
   "source": [
    "Se observa que el dataset está balanceado."
   ]
  },
  {
   "cell_type": "markdown",
   "id": "9134f6de",
   "metadata": {},
   "source": [
    "<a id=\"2\"></a>\n",
    "## 2)Metodología Bag of Words\n",
    "\n",
    "Para representar las noticias conservaremos únicamente su conjunto de palabras y el número de veces que aparecen en la noticia. \n",
    "Este enfoque pierde sentido al descartar la estructura de los textos como párrafos, capítulos, orden en el que aparecen las palabras, etc.\n",
    "Como beneficio reduce significativamente la dimensionalidad y por ende el costo computacional.\n",
    "Llamaremos **corpus** al conjunto de noticias de nuestro dataset y **documento** a cada noticia, que es nuestra unidad de dato.\n",
    "\n",
    "Computar la representación \"bag of words\" de un corpus de documentos conlleva tres pasos:\n",
    "\n",
    "1. **Tokenización**: convertir cada documento a una lista de palabras (y signos de puntuación) que lo componen.\n",
    "\n",
    "2. **Construcción de un vocabulario**: colectar todas las palabras que se registraron en el corpus y ordenarlas (típicamente por orden alfabético).\n",
    "\n",
    "3. **Encoding**: representar los documentos como vectores en el espacio de las palabras del vocabulario."
   ]
  },
  {
   "cell_type": "markdown",
   "id": "78215bdc",
   "metadata": {},
   "source": [
    "1. Tokenización:\n",
    "\n",
    " La librería NLTK cuenta con herramientas para hacer ésto, identificando los signos de puntuación: cuándo los mismos separan oraciones y cuándo cumplen otra función, como una abreviatura.\n",
    "        "
   ]
  },
  {
   "cell_type": "code",
   "execution_count": 17,
   "id": "c62965c1",
   "metadata": {},
   "outputs": [
    {
     "name": "stderr",
     "output_type": "stream",
     "text": [
      "[nltk_data] Downloading package punkt to C:\\Users\\Mati-\n",
      "[nltk_data]     PC\\AppData\\Roaming\\nltk_data...\n",
      "[nltk_data]   Package punkt is already up-to-date!\n",
      "[nltk_data] Downloading package stopwords to C:\\Users\\Mati-\n",
      "[nltk_data]     PC\\AppData\\Roaming\\nltk_data...\n",
      "[nltk_data]   Package stopwords is already up-to-date!\n",
      "[nltk_data] Downloading package wordnet to C:\\Users\\Mati-\n",
      "[nltk_data]     PC\\AppData\\Roaming\\nltk_data...\n",
      "[nltk_data]   Package wordnet is already up-to-date!\n"
     ]
    }
   ],
   "source": [
    "import nltk\n",
    "nltk.download('punkt')    # esta linea hay que ejecutarla sólo una vez\n",
    "nltk.download('stopwords') # esta linea hay que ejecutarla sólo una vez\n",
    "nltk.download('wordnet')    # esta linea hay que ejecutarla sólo una vez\n",
    "from nltk.tokenize import word_tokenize, sent_tokenize"
   ]
  },
  {
   "cell_type": "markdown",
   "id": "a4507a0b",
   "metadata": {},
   "source": [
    "<a id=\"2.1\"></a>\n",
    "\n",
    "### 2.1)Construcción de un vocabulario\n",
    "\n",
    "Podríamos tokenizar todos los documentos y definir el vocabulario como el set de palabras que aparecieron al menos una vez en todo el corpus.\n",
    "Esto tiene el problema de que el número de palabras será muy grande y muchas de ellas serán muy poco informativas sobre el contenido del texto, por ejemplo las preposiciones, pronombres, etc. \n",
    "A estas palabras se las llama **stopwords** y a menudo se las **excluye del vocabulario**. \n",
    "\n",
    "NLTK tiene listas de stopwords en distintos idiomas, nuestro dataset tiene noticias exclusivamente en inglés así que solo utilizaremos esta:"
   ]
  },
  {
   "cell_type": "code",
   "execution_count": 18,
   "id": "fd17bb6c",
   "metadata": {},
   "outputs": [
    {
     "name": "stdout",
     "output_type": "stream",
     "text": [
      "['i', 'me', 'my', 'myself', 'we', 'our', 'ours', 'ourselves', 'you', \"you're\", \"you've\", \"you'll\", \"you'd\", 'your', 'yours', 'yourself', 'yourselves', 'he', 'him', 'his']\n"
     ]
    }
   ],
   "source": [
    "from nltk.corpus import stopwords \n",
    "\n",
    "stopwords_en = stopwords.words('english');\n",
    "\n",
    "print(stopwords_en[:20])"
   ]
  },
  {
   "cell_type": "markdown",
   "id": "66f5b416",
   "metadata": {},
   "source": [
    "Tokenizamos utilizando CountVectorizer de scikit-learn"
   ]
  },
  {
   "cell_type": "code",
   "execution_count": 19,
   "id": "b63e0789",
   "metadata": {},
   "outputs": [
    {
     "data": {
      "image/png": "[encoded data removed]",
      "text/plain": [
       "<Figure size 1170x390 with 1 Axes>"
      ]
     },
     "metadata": {},
     "output_type": "display_data"
    }
   ],
   "source": [
    "from sklearn.feature_extraction.text import CountVectorizer\n",
    "\n",
    "vect=CountVectorizer(lowercase=True,strip_accents='unicode', stop_words=stopwords_en)\n",
    "\n",
    "X=vect.fit_transform(df['text'])    \n",
    "sum_words=X.sum(axis=0)\n",
    "words_freq = sorted([(word, sum_words[0, idx]) for word, idx in  vect.vocabulary_.items()],reverse=False)\n",
    "words_freq = sorted(words_freq, key = lambda x: x[1], reverse=True)\n",
    "    \n",
    "wf_df=pd.DataFrame(words_freq,columns=['Palabra','Cantidad de apariciones'])\n",
    "   \n",
    "plt.figure(figsize=(9,3),dpi=130)\n",
    "sns.barplot(data=wf_df.head(50),x='Palabra',y='Cantidad de apariciones')\n",
    "plt.title(\"Frecuencia de aparición de palabras en el Corpus\")\n",
    "plt.xticks(rotation=90);\n"
   ]
  },
  {
   "cell_type": "markdown",
   "id": "7aab69a0",
   "metadata": {},
   "source": [
    "Utilizando CountVectorizer, ya tenemos creada la matriz esparsa que almacena el \"Bag of Words\".\n",
    "\n",
    "Se podría crear un DataFrame de pandas con esta matriz para poder visualizar mejor su contenido. El algoritmo necesario para realizarlo sería el siguiente:\n",
    "\n",
    "X_pd = pd.DataFrame(X.todense(),columns=vect.get_feature_names())\n",
    "\n",
    "No se ejecuta la línea de código porque para definir X_pd se debería contar con 40.9 GiB de memoria RAM.    "
   ]
  },
  {
   "cell_type": "markdown",
   "id": "c6e56e26",
   "metadata": {},
   "source": [
    "<a id=\"2.2\"></a>\n",
    "### 2.2)Transformación Tf-idf (Term Frequency Inverse Document Frequency)\n",
    "\n",
    "La representación de los textos generada mediante `CountVectorizer` tiene en cuenta cuántas veces se observó cada término del vocabulario en cada documento. \n",
    "\n",
    "**Esto plantea ciertas problemáticas**: \n",
    "\n",
    "* En un documento mucho más largo que los otros, el conteo de palabras puede resultar en números mucho mayores que en el resto de los documentos. \n",
    "\n",
    "    Para corregir esta anomalía, deberíamos normalizar (dividir) el conteo de cada palabra por el tamaño de cada documento.\n",
    "\n",
    "* Una palabra que aparece muchas veces en un documento, pero pocas veces en los demás, es una palabra muy distintiva de ese documento y será importante para representarlo. Mientras que palabras que aparecen pocas veces, o que aparecen en muchos documentos serán menos informativas. \n",
    "    Para corregir esto, se debería relacionar la frecuencia de aparición de una palabra con su frecuencia en el corpus.\n",
    "\n",
    "La transformación TF-IDF aborda ambas problemáticas y por eso la usaremos con la matriz esparsa creada con CountVectorizer"
   ]
  },
  {
   "cell_type": "code",
   "execution_count": 20,
   "id": "27f69aed",
   "metadata": {},
   "outputs": [],
   "source": [
    "from sklearn.feature_extraction.text import TfidfTransformer\n",
    "\n",
    "X_Tfidf=TfidfTransformer().fit_transform(X)\n"
   ]
  },
  {
   "cell_type": "markdown",
   "id": "2b0da3eb",
   "metadata": {},
   "source": [
    "<a id=\"3\"></a>\n",
    "## 3)División del dataset en Train y Test"
   ]
  },
  {
   "cell_type": "code",
   "execution_count": 21,
   "id": "8b980a5b",
   "metadata": {},
   "outputs": [],
   "source": [
    "X_ = df['text']\n",
    "y_ = df['target']"
   ]
  },
  {
   "cell_type": "code",
   "execution_count": 22,
   "id": "9efd49c0",
   "metadata": {},
   "outputs": [
    {
     "name": "stdout",
     "output_type": "stream",
     "text": [
      "Hay 29328 datos de entrenamiento y 9777 datos de testeo\n"
     ]
    }
   ],
   "source": [
    "from sklearn.model_selection import train_test_split\n",
    "X_train, X_test, y_train, y_test = train_test_split(X_Tfidf, df['target'], random_state=1)\n",
    "print('Hay', y_train.shape[0], 'datos de entrenamiento y', y_test.shape[0], 'datos de testeo')"
   ]
  },
  {
   "cell_type": "code",
   "execution_count": 23,
   "id": "c88ba0db",
   "metadata": {},
   "outputs": [
    {
     "data": {
      "text/plain": [
       "<matplotlib.legend.Legend at 0x28af8163f40>"
      ]
     },
     "execution_count": 23,
     "metadata": {},
     "output_type": "execute_result"
    },
    {
     "data": {
      "image/png": "[encoded data removed]",
      "text/plain": [
       "<Figure size 432x288 with 1 Axes>"
      ]
     },
     "metadata": {},
     "output_type": "display_data"
    }
   ],
   "source": [
    "xplot = ['X_var','Y_var']\n",
    "trainplot = [X_train.shape[0]/X_.shape[0],y_train.shape[0]/y_.shape[0]]\n",
    "testplot = [X_test.shape[0]/X_.shape[0],y_test.shape[0]/y_.shape[0]]\n",
    "fig, ax = plt.subplots()\n",
    "ax.bar(xplot,trainplot,label = 'Train')\n",
    "ax.bar(xplot,testplot,bottom = trainplot,label = 'Test')\n",
    "ax.legend(loc = (1.1,0.8))"
   ]
  },
  {
   "cell_type": "markdown",
   "id": "ddf2dd99",
   "metadata": {},
   "source": [
    "<a id=\"4\"></a>\n",
    "## 4)Creación de modelos de clasificación"
   ]
  },
  {
   "cell_type": "markdown",
   "id": "db434d70",
   "metadata": {},
   "source": [
    "<a id=\"4.1\"></a>\n",
    "### 4.1- Modelo Naive Bayes"
   ]
  },
  {
   "cell_type": "code",
   "execution_count": 24,
   "id": "4e2c5a97",
   "metadata": {},
   "outputs": [
    {
     "name": "stdout",
     "output_type": "stream",
     "text": [
      "Training set shape: (29328, 140379)\n",
      "\n",
      "Test Accuracy: 0.9380177968702056\n",
      "\n",
      "Confusion Matrix:\n",
      " [[4048  437]\n",
      " [ 169 5123]]\n"
     ]
    }
   ],
   "source": [
    "from sklearn.naive_bayes import MultinomialNB\n",
    "from sklearn.metrics import accuracy_score \n",
    "from sklearn.metrics import confusion_matrix\n",
    "\n",
    "NBC=MultinomialNB()\n",
    "NBC.fit(X_train,y_train)\n",
    "\n",
    "y_pred=NBC.predict(X_test)\n",
    "\n",
    "confusion_matrix_NBC= confusion_matrix(y_test,y_pred) \n",
    "\n",
    "print('Training set shape:',X_train.shape)\n",
    "\n",
    "print('\\nTest Accuracy:',accuracy_score(y_test,y_pred))\n",
    "\n",
    "print('\\nConfusion Matrix:\\n',confusion_matrix_NBC)"
   ]
  },
  {
   "cell_type": "code",
   "execution_count": 25,
   "id": "9b69b52b",
   "metadata": {},
   "outputs": [
    {
     "data": {
      "text/plain": [
       "Text(0.5, 1.0, 'Confusion Matrix')"
      ]
     },
     "execution_count": 25,
     "metadata": {},
     "output_type": "execute_result"
    },
    {
     "data": {
      "image/png": "[encoded data removed]",
      "text/plain": [
       "<Figure size 432x288 with 2 Axes>"
      ]
     },
     "metadata": {},
     "output_type": "display_data"
    }
   ],
   "source": [
    "sns.heatmap(confusion_matrix_NBC, annot=True,fmt=\"d\",cmap='Blues')\n",
    "plt.title('Confusion Matrix')"
   ]
  },
  {
   "cell_type": "code",
   "execution_count": 26,
   "id": "834c92ae",
   "metadata": {},
   "outputs": [
    {
     "name": "stdout",
     "output_type": "stream",
     "text": [
      "              precision    recall  f1-score   support\n",
      "\n",
      "           0       0.96      0.90      0.93      4485\n",
      "           1       0.92      0.97      0.94      5292\n",
      "\n",
      "    accuracy                           0.94      9777\n",
      "   macro avg       0.94      0.94      0.94      9777\n",
      "weighted avg       0.94      0.94      0.94      9777\n",
      "\n"
     ]
    }
   ],
   "source": [
    "from sklearn.metrics import classification_report\n",
    "\n",
    "print(classification_report(y_test,y_pred))"
   ]
  },
  {
   "cell_type": "code",
   "execution_count": 27,
   "id": "5be85a6f",
   "metadata": {},
   "outputs": [
    {
     "data": {
      "text/html": [
       "<div>\n",
       "<style scoped>\n",
       "    .dataframe tbody tr th:only-of-type {\n",
       "        vertical-align: middle;\n",
       "    }\n",
       "\n",
       "    .dataframe tbody tr th {\n",
       "        vertical-align: top;\n",
       "    }\n",
       "\n",
       "    .dataframe thead th {\n",
       "        text-align: right;\n",
       "    }\n",
       "</style>\n",
       "<table border=\"1\" class=\"dataframe\">\n",
       "  <thead>\n",
       "    <tr style=\"text-align: right;\">\n",
       "      <th></th>\n",
       "      <th>model</th>\n",
       "      <th>accuracy_score</th>\n",
       "    </tr>\n",
       "  </thead>\n",
       "  <tbody>\n",
       "    <tr>\n",
       "      <th>0</th>\n",
       "      <td>NBM</td>\n",
       "      <td>0.938018</td>\n",
       "    </tr>\n",
       "  </tbody>\n",
       "</table>\n",
       "</div>"
      ],
      "text/plain": [
       "  model accuracy_score\n",
       "0   NBM       0.938018"
      ]
     },
     "execution_count": 27,
     "metadata": {},
     "output_type": "execute_result"
    }
   ],
   "source": [
    "# Construimos una tabla para ir guardando las métricas de los modelos y luego poder compararlas\n",
    "\n",
    "compare_models = pd.DataFrame(columns = ['model', 'accuracy_score'])\n",
    "compare_models.loc[0,'model'] = 'NBM'\n",
    "compare_models.loc[0,'accuracy_score'] = accuracy_score(y_test,y_pred)\n",
    "compare_models"
   ]
  },
  {
   "cell_type": "markdown",
   "id": "b0291d4c",
   "metadata": {},
   "source": [
    "<a id=\"4.2\"></a>\n",
    "### 4.2- Modelo Regresión Logística"
   ]
  },
  {
   "cell_type": "code",
   "execution_count": 28,
   "id": "d3b6da4f",
   "metadata": {},
   "outputs": [
    {
     "name": "stdout",
     "output_type": "stream",
     "text": [
      "Training set shape: (29328, 140379)\n",
      "\n",
      "Test Accuracy: 0.9930449012989669\n",
      "\n",
      "Confusion Matrix:\n",
      " [[4443   42]\n",
      " [  26 5266]]\n"
     ]
    }
   ],
   "source": [
    "from sklearn.linear_model import LogisticRegression\n",
    "\n",
    "LRM=LogisticRegression(penalty='none', solver='newton-cg')\n",
    "\n",
    "LRM.fit(X_train, y_train)\n",
    "y_pred = LRM.predict(X_test)\n",
    "\n",
    "confusion_matrix_LRM= confusion_matrix(y_test,y_pred)\n",
    "\n",
    "print('Training set shape:',X_train.shape)\n",
    "\n",
    "print('\\nTest Accuracy:',accuracy_score(y_test,y_pred))\n",
    "\n",
    "print('\\nConfusion Matrix:\\n',confusion_matrix_LRM)"
   ]
  },
  {
   "cell_type": "code",
   "execution_count": 29,
   "id": "148e6f88",
   "metadata": {},
   "outputs": [
    {
     "data": {
      "text/plain": [
       "Text(0.5, 1.0, 'Confusion Matrix')"
      ]
     },
     "execution_count": 29,
     "metadata": {},
     "output_type": "execute_result"
    },
    {
     "data": {
      "image/png": "[encoded data removed]",
      "text/plain": [
       "<Figure size 432x288 with 2 Axes>"
      ]
     },
     "metadata": {},
     "output_type": "display_data"
    }
   ],
   "source": [
    "sns.heatmap(confusion_matrix_LRM, annot=True,fmt=\"d\",cmap='Purples')\n",
    "plt.title('Confusion Matrix')"
   ]
  },
  {
   "cell_type": "code",
   "execution_count": 30,
   "id": "7fe7ace9",
   "metadata": {},
   "outputs": [
    {
     "name": "stdout",
     "output_type": "stream",
     "text": [
      "              precision    recall  f1-score   support\n",
      "\n",
      "           0       0.99      0.99      0.99      4485\n",
      "           1       0.99      1.00      0.99      5292\n",
      "\n",
      "    accuracy                           0.99      9777\n",
      "   macro avg       0.99      0.99      0.99      9777\n",
      "weighted avg       0.99      0.99      0.99      9777\n",
      "\n"
     ]
    }
   ],
   "source": [
    "from sklearn.metrics import classification_report\n",
    "\n",
    "print(classification_report(y_test,y_pred))"
   ]
  },
  {
   "cell_type": "code",
   "execution_count": 31,
   "id": "b72afc9a",
   "metadata": {},
   "outputs": [],
   "source": [
    "compare_models.loc[1,'model'] = 'LRM'\n",
    "compare_models.loc[1,'accuracy_score'] = accuracy_score(y_test,y_pred)"
   ]
  },
  {
   "cell_type": "markdown",
   "id": "5f0898e8",
   "metadata": {},
   "source": [
    "<a id=\"4.3\"></a>\n",
    "### 4.3- Modelo Random Forest"
   ]
  },
  {
   "cell_type": "code",
   "execution_count": 32,
   "id": "28f68fea",
   "metadata": {},
   "outputs": [
    {
     "name": "stdout",
     "output_type": "stream",
     "text": [
      "Training set shape: (29328, 140379)\n",
      "\n",
      "Test Accuracy: 0.9879308581364427\n",
      "\n",
      "Confusion Matrix:\n",
      " [[4398   87]\n",
      " [  31 5261]]\n"
     ]
    }
   ],
   "source": [
    "from sklearn.ensemble import RandomForestClassifier\n",
    "\n",
    "RFM=RandomForestClassifier()\n",
    "\n",
    "RFM.fit(X_train, y_train)\n",
    "y_pred = RFM.predict(X_test)\n",
    "\n",
    "confusion_matrix_RFM= confusion_matrix(y_test,y_pred)\n",
    "print('Training set shape:',X_train.shape)\n",
    "\n",
    "print('\\nTest Accuracy:',accuracy_score(y_test,y_pred))\n",
    "\n",
    "print('\\nConfusion Matrix:\\n',confusion_matrix_RFM)"
   ]
  },
  {
   "cell_type": "code",
   "execution_count": 33,
   "id": "ec06aec0",
   "metadata": {},
   "outputs": [
    {
     "data": {
      "text/plain": [
       "Text(0.5, 1.0, 'Confusion Matrix')"
      ]
     },
     "execution_count": 33,
     "metadata": {},
     "output_type": "execute_result"
    },
    {
     "data": {
      "image/png": "[encoded data removed]",
      "text/plain": [
       "<Figure size 432x288 with 2 Axes>"
      ]
     },
     "metadata": {},
     "output_type": "display_data"
    }
   ],
   "source": [
    "sns.heatmap(confusion_matrix_RFM, annot=True,fmt=\"d\",cmap='Greens')\n",
    "plt.title('Confusion Matrix')"
   ]
  },
  {
   "cell_type": "code",
   "execution_count": 34,
   "id": "4ff130b9",
   "metadata": {},
   "outputs": [
    {
     "name": "stdout",
     "output_type": "stream",
     "text": [
      "25\n",
      "50\n",
      "100\n",
      "250\n",
      "500\n"
     ]
    }
   ],
   "source": [
    "import sklearn.metrics as metrics\n",
    "\n",
    "train_accuracy = []\n",
    "test_accuracy = []\n",
    "\n",
    "N_estimadores = [25,50,100,250,500]\n",
    "for estimadores in N_estimadores:\n",
    "    print(estimadores)\n",
    "    clf = RandomForestClassifier(n_estimators=estimadores, n_jobs=-1, oob_score= True)\n",
    "    clf.fit(X_train,y_train)\n",
    "    \n",
    "    y_train_pred = clf.predict(X_train)\n",
    "    y_test_pred = clf.predict(X_test)\n",
    "    \n",
    "    train_accuracy.append(metrics.accuracy_score(y_train, y_train_pred))\n",
    "    test_accuracy.append(metrics.accuracy_score(y_test, y_test_pred))\n",
    "    \n",
    "train_accuracy = np.array(train_accuracy)\n",
    "test_accuracy = np.array(test_accuracy)\n"
   ]
  },
  {
   "cell_type": "code",
   "execution_count": 35,
   "id": "5e865c8c",
   "metadata": {},
   "outputs": [
    {
     "data": {
      "text/plain": [
       "<matplotlib.legend.Legend at 0x28a84171af0>"
      ]
     },
     "execution_count": 35,
     "metadata": {},
     "output_type": "execute_result"
    },
    {
     "data": {
      "image/png": "[encoded data removed]",
      "text/plain": [
       "<Figure size 576x432 with 1 Axes>"
      ]
     },
     "metadata": {},
     "output_type": "display_data"
    }
   ],
   "source": [
    "plt.figure(figsize = (8,6))\n",
    "plt.plot(N_estimadores, train_accuracy, label = 'Train')\n",
    "plt.plot(N_estimadores, test_accuracy, label = 'Test')\n",
    "plt.xlabel('Numero de estimadores')\n",
    "plt.ylabel('Accuracy')\n",
    "plt.legend()\n"
   ]
  },
  {
   "cell_type": "code",
   "execution_count": 36,
   "id": "ad2c6774",
   "metadata": {},
   "outputs": [
    {
     "name": "stdout",
     "output_type": "stream",
     "text": [
      "Fitting 5 folds for each of 12 candidates, totalling 60 fits\n"
     ]
    },
    {
     "name": "stderr",
     "output_type": "stream",
     "text": [
      "[Parallel(n_jobs=-1)]: Using backend LokyBackend with 12 concurrent workers.\n",
      "[Parallel(n_jobs=-1)]: Done  26 tasks      | elapsed:  4.0min\n",
      "[Parallel(n_jobs=-1)]: Done  60 out of  60 | elapsed:  6.8min finished\n"
     ]
    },
    {
     "data": {
      "text/plain": [
       "RandomForestClassifier(max_features='sqrt', n_estimators=250, random_state=101)"
      ]
     },
     "metadata": {},
     "output_type": "display_data"
    },
    {
     "data": {
      "text/plain": [
       "0.986668096729197"
      ]
     },
     "metadata": {},
     "output_type": "display_data"
    },
    {
     "data": {
      "text/plain": [
       "{'max_features': 'sqrt', 'n_estimators': 250}"
      ]
     },
     "metadata": {},
     "output_type": "display_data"
    }
   ],
   "source": [
    "#intanciamos el modelo, parametros y GridSearch\n",
    "from sklearn.ensemble import RandomForestClassifier\n",
    "from sklearn.model_selection import GridSearchCV\n",
    "\n",
    "RFM=RandomForestClassifier(random_state=101)\n",
    "\n",
    "param_grid={'n_estimators':[25,50,100,250],\n",
    "           'max_features':['sqrt','log2','None']}\n",
    "\n",
    "grid_RFM=GridSearchCV(RFM,param_grid,n_jobs=-1,verbose=1)\n",
    "grid_RFM.fit(X_train,y_train)\n",
    "grid_RFM.cv_results_.keys()\n",
    "display(grid_RFM.best_estimator_,grid_RFM.best_score_,grid_RFM.best_params_)"
   ]
  },
  {
   "cell_type": "markdown",
   "id": "c1d46f81",
   "metadata": {},
   "source": [
    "<a id=\"5\"></a>\n",
    "### 5)Verificaremos si nuestra decisión de unir el cuerpo de la noticia con el título fue acertada. \n",
    "Para esto realizaremos un pipeline que nos permita comparar el accuracy entre:\n",
    "1. Unir el título con el cuerpo de la noticia\n",
    "2. Descartar el título\n",
    "3. Descartar el cuerpo de la noticia"
   ]
  },
  {
   "cell_type": "code",
   "execution_count": 37,
   "id": "97ceb6ec",
   "metadata": {},
   "outputs": [],
   "source": [
    "from sklearn.pipeline import Pipeline"
   ]
  },
  {
   "cell_type": "markdown",
   "id": "d7e80ab6",
   "metadata": {},
   "source": [
    "Utilizamos TfidfVectorizer para integrar en un solo paso CountVectorizer y TfidfTransformer. En esta instancia se eliminan las palabras con una frecuencia de aparición mayor a 0.8\n"
   ]
  },
  {
   "cell_type": "code",
   "execution_count": 38,
   "id": "9ac18b30",
   "metadata": {},
   "outputs": [],
   "source": [
    "from sklearn.feature_extraction.text import TfidfVectorizer\n",
    "TfIdfvect=TfidfVectorizer(stop_words=stopwords_en,lowercase=True,max_df=0.8)\n"
   ]
  },
  {
   "cell_type": "markdown",
   "id": "51c195a9",
   "metadata": {},
   "source": [
    "Dividimos en train y test el dataset original sin procesamiento"
   ]
  },
  {
   "cell_type": "code",
   "execution_count": 39,
   "id": "0097a886",
   "metadata": {},
   "outputs": [],
   "source": [
    "X_train, X_test, y_train, y_test = train_test_split(df['text'], df['target'])"
   ]
  },
  {
   "cell_type": "markdown",
   "id": "43c87c8b",
   "metadata": {},
   "source": [
    "Generamos los pasos para el PipeLine"
   ]
  },
  {
   "cell_type": "code",
   "execution_count": 40,
   "id": "e3198522",
   "metadata": {},
   "outputs": [],
   "source": [
    "steps=[\n",
    "    ('vect',TfIdfvect),\n",
    "    ('classifier',NBC)\n",
    "]"
   ]
  },
  {
   "cell_type": "code",
   "execution_count": 41,
   "id": "be5de0c4",
   "metadata": {},
   "outputs": [],
   "source": [
    "# Instanciamos el PipeLine\n",
    "pipe=Pipeline(steps)"
   ]
  },
  {
   "cell_type": "code",
   "execution_count": 42,
   "id": "d39dc3d8",
   "metadata": {},
   "outputs": [],
   "source": [
    "# Armamos la Grilla de Parametros\n",
    "\n",
    "#param_grid = [\n",
    " #              'classifier':[MultinomialNB(), LogisticRegression(), RandomForestClassifier()]}]\n",
    "\n",
    "\n",
    "param_grid=[\n",
    "    {\n",
    "    'classifier':[MultinomialNB()],\n",
    "    },\n",
    "    {'classifier':[LogisticRegression()],\n",
    "     'classifier__penalty':['l1', 'l2']\n",
    "    },\n",
    "    {'classifier':[RandomForestClassifier()],\n",
    "    'classifier__n_estimators':[100,250]\n",
    "    }\n",
    "    ]\n"
   ]
  },
  {
   "cell_type": "code",
   "execution_count": 43,
   "id": "ecd561d6",
   "metadata": {},
   "outputs": [],
   "source": [
    "# generamos un fold para GridSearchCV\n",
    "from sklearn.model_selection import StratifiedKFold\n",
    "\n",
    "skf=StratifiedKFold(n_splits=3,shuffle=True)"
   ]
  },
  {
   "cell_type": "code",
   "execution_count": 44,
   "id": "edac3681",
   "metadata": {},
   "outputs": [],
   "source": [
    "# instanciamos el GridSearch\n",
    "grid=GridSearchCV(pipe,param_grid,cv=skf,n_jobs=-1,verbose=10)"
   ]
  },
  {
   "cell_type": "markdown",
   "id": "63cdf67f",
   "metadata": {},
   "source": [
    "<a id=\"5.1\"></a>\n",
    "### 5.1)Fiteamos el pipeline para la opción 1: Unir el título con el cuerpo de la noticia"
   ]
  },
  {
   "cell_type": "code",
   "execution_count": 45,
   "id": "a5a6db08",
   "metadata": {},
   "outputs": [
    {
     "name": "stdout",
     "output_type": "stream",
     "text": [
      "Fitting 3 folds for each of 5 candidates, totalling 15 fits\n"
     ]
    },
    {
     "name": "stderr",
     "output_type": "stream",
     "text": [
      "[Parallel(n_jobs=-1)]: Using backend LokyBackend with 12 concurrent workers.\n",
      "[Parallel(n_jobs=-1)]: Done   2 out of  15 | elapsed:   12.1s remaining:  1.3min\n",
      "[Parallel(n_jobs=-1)]: Done   4 out of  15 | elapsed:   16.9s remaining:   46.7s\n",
      "[Parallel(n_jobs=-1)]: Done   6 out of  15 | elapsed:   17.6s remaining:   26.5s\n",
      "[Parallel(n_jobs=-1)]: Done   8 out of  15 | elapsed:   19.9s remaining:   17.4s\n",
      "[Parallel(n_jobs=-1)]: Done  10 out of  15 | elapsed:   45.2s remaining:   22.5s\n",
      "[Parallel(n_jobs=-1)]: Done  12 out of  15 | elapsed:   48.1s remaining:   12.0s\n",
      "[Parallel(n_jobs=-1)]: Done  15 out of  15 | elapsed:  1.4min finished\n"
     ]
    },
    {
     "data": {
      "text/plain": [
       "GridSearchCV(cv=StratifiedKFold(n_splits=3, random_state=None, shuffle=True),\n",
       "             estimator=Pipeline(steps=[('vect',\n",
       "                                        TfidfVectorizer(max_df=0.8,\n",
       "                                                        stop_words=['i', 'me',\n",
       "                                                                    'my',\n",
       "                                                                    'myself',\n",
       "                                                                    'we', 'our',\n",
       "                                                                    'ours',\n",
       "                                                                    'ourselves',\n",
       "                                                                    'you',\n",
       "                                                                    \"you're\",\n",
       "                                                                    \"you've\",\n",
       "                                                                    \"you'll\",\n",
       "                                                                    \"you'd\",\n",
       "                                                                    'your',\n",
       "                                                                    'yours',\n",
       "                                                                    'yourself',\n",
       "                                                                    'yourselves',\n",
       "                                                                    'he', 'him',\n",
       "                                                                    'his',\n",
       "                                                                    'himself',\n",
       "                                                                    'she',\n",
       "                                                                    \"she's\",\n",
       "                                                                    'her',\n",
       "                                                                    'hers',\n",
       "                                                                    'herself',\n",
       "                                                                    'it',\n",
       "                                                                    \"it's\",\n",
       "                                                                    'its',\n",
       "                                                                    'itself', ...])),\n",
       "                                       ('classifier', MultinomialNB())]),\n",
       "             n_jobs=-1,\n",
       "             param_grid=[{'classifier': [MultinomialNB()]},\n",
       "                         {'classifier': [LogisticRegression()],\n",
       "                          'classifier__penalty': ['l1', 'l2']},\n",
       "                         {'classifier': [RandomForestClassifier(n_estimators=250)],\n",
       "                          'classifier__n_estimators': [100, 250]}],\n",
       "             verbose=10)"
      ]
     },
     "execution_count": 45,
     "metadata": {},
     "output_type": "execute_result"
    }
   ],
   "source": [
    "# Entrenamos el GridSearch\n",
    "grid.fit(X_train,y_train)"
   ]
  },
  {
   "cell_type": "code",
   "execution_count": 46,
   "id": "b4999d8e",
   "metadata": {},
   "outputs": [
    {
     "data": {
      "text/plain": [
       "Pipeline(steps=[('vect',\n",
       "                 TfidfVectorizer(max_df=0.8,\n",
       "                                 stop_words=['i', 'me', 'my', 'myself', 'we',\n",
       "                                             'our', 'ours', 'ourselves', 'you',\n",
       "                                             \"you're\", \"you've\", \"you'll\",\n",
       "                                             \"you'd\", 'your', 'yours',\n",
       "                                             'yourself', 'yourselves', 'he',\n",
       "                                             'him', 'his', 'himself', 'she',\n",
       "                                             \"she's\", 'her', 'hers', 'herself',\n",
       "                                             'it', \"it's\", 'its', 'itself', ...])),\n",
       "                ('classifier', RandomForestClassifier(n_estimators=250))])"
      ]
     },
     "execution_count": 46,
     "metadata": {},
     "output_type": "execute_result"
    }
   ],
   "source": [
    "grid.best_estimator_"
   ]
  },
  {
   "cell_type": "code",
   "execution_count": 47,
   "id": "b94fc686",
   "metadata": {},
   "outputs": [
    {
     "data": {
      "text/plain": [
       "{'classifier': RandomForestClassifier(n_estimators=250),\n",
       " 'classifier__n_estimators': 250}"
      ]
     },
     "execution_count": 47,
     "metadata": {},
     "output_type": "execute_result"
    }
   ],
   "source": [
    "grid.best_params_"
   ]
  },
  {
   "cell_type": "code",
   "execution_count": 48,
   "id": "2c46b764",
   "metadata": {},
   "outputs": [
    {
     "data": {
      "text/plain": [
       "0.988372885979269"
      ]
     },
     "execution_count": 48,
     "metadata": {},
     "output_type": "execute_result"
    }
   ],
   "source": [
    "grid.best_score_"
   ]
  },
  {
   "cell_type": "code",
   "execution_count": 49,
   "id": "8622d412",
   "metadata": {},
   "outputs": [
    {
     "data": {
      "text/plain": [
       "0.9894650710852"
      ]
     },
     "execution_count": 49,
     "metadata": {},
     "output_type": "execute_result"
    }
   ],
   "source": [
    "grid.best_estimator_.score(X_test,y_test)"
   ]
  },
  {
   "cell_type": "markdown",
   "id": "56d716b7",
   "metadata": {},
   "source": [
    "Procedemos a guardar nuestro mejor modelo para ser utilizado en un futuro sin necesidad de re importar el dataset y volver a ejecutar el código. Se guardará la instancia grid, que cuenta con toda la información necesaria para luego poder realizar un predict."
   ]
  },
  {
   "cell_type": "code",
   "execution_count": 50,
   "id": "60e1fdb6",
   "metadata": {},
   "outputs": [],
   "source": [
    "import pickle\n",
    "\n",
    "modelo_text_y_title = grid\n",
    "\n",
    "with open('modelos/modelo_text_y_title.pkl', 'wb') as m_text_y_title:\n",
    "    pickle.dump(modelo_text_y_title, m_text_y_title)\n"
   ]
  },
  {
   "cell_type": "markdown",
   "id": "733990a2",
   "metadata": {},
   "source": [
    "<a id=\"5.2\"></a>\n",
    "### 5.2) Fiteamos el pipeline para la opción 2: Descartar el título"
   ]
  },
  {
   "cell_type": "code",
   "execution_count": 51,
   "id": "5c846088",
   "metadata": {},
   "outputs": [
    {
     "data": {
      "text/html": [
       "<div>\n",
       "<style scoped>\n",
       "    .dataframe tbody tr th:only-of-type {\n",
       "        vertical-align: middle;\n",
       "    }\n",
       "\n",
       "    .dataframe tbody tr th {\n",
       "        vertical-align: top;\n",
       "    }\n",
       "\n",
       "    .dataframe thead th {\n",
       "        text-align: right;\n",
       "    }\n",
       "</style>\n",
       "<table border=\"1\" class=\"dataframe\">\n",
       "  <thead>\n",
       "    <tr style=\"text-align: right;\">\n",
       "      <th></th>\n",
       "      <th>title</th>\n",
       "      <th>text</th>\n",
       "      <th>target</th>\n",
       "    </tr>\n",
       "  </thead>\n",
       "  <tbody>\n",
       "    <tr>\n",
       "      <th>0</th>\n",
       "      <td>Donald Trump Sends Out Embarrassing New Year’...</td>\n",
       "      <td>Donald Trump just couldn t wish all Americans ...</td>\n",
       "      <td>0</td>\n",
       "    </tr>\n",
       "    <tr>\n",
       "      <th>1</th>\n",
       "      <td>Drunk Bragging Trump Staffer Started Russian ...</td>\n",
       "      <td>House Intelligence Committee Chairman Devin Nu...</td>\n",
       "      <td>0</td>\n",
       "    </tr>\n",
       "    <tr>\n",
       "      <th>2</th>\n",
       "      <td>Sheriff David Clarke Becomes An Internet Joke...</td>\n",
       "      <td>On Friday, it was revealed that former Milwauk...</td>\n",
       "      <td>0</td>\n",
       "    </tr>\n",
       "    <tr>\n",
       "      <th>3</th>\n",
       "      <td>Trump Is So Obsessed He Even Has Obama’s Name...</td>\n",
       "      <td>On Christmas day, Donald Trump announced that ...</td>\n",
       "      <td>0</td>\n",
       "    </tr>\n",
       "    <tr>\n",
       "      <th>4</th>\n",
       "      <td>Pope Francis Just Called Out Donald Trump Dur...</td>\n",
       "      <td>Pope Francis used his annual Christmas Day mes...</td>\n",
       "      <td>0</td>\n",
       "    </tr>\n",
       "  </tbody>\n",
       "</table>\n",
       "</div>"
      ],
      "text/plain": [
       "                                               title  \\\n",
       "0   Donald Trump Sends Out Embarrassing New Year’...   \n",
       "1   Drunk Bragging Trump Staffer Started Russian ...   \n",
       "2   Sheriff David Clarke Becomes An Internet Joke...   \n",
       "3   Trump Is So Obsessed He Even Has Obama’s Name...   \n",
       "4   Pope Francis Just Called Out Donald Trump Dur...   \n",
       "\n",
       "                                                text  target  \n",
       "0  Donald Trump just couldn t wish all Americans ...       0  \n",
       "1  House Intelligence Committee Chairman Devin Nu...       0  \n",
       "2  On Friday, it was revealed that former Milwauk...       0  \n",
       "3  On Christmas day, Donald Trump announced that ...       0  \n",
       "4  Pope Francis used his annual Christmas Day mes...       0  "
      ]
     },
     "execution_count": 51,
     "metadata": {},
     "output_type": "execute_result"
    }
   ],
   "source": [
    "df = pd.concat([fake_df, real_df], ignore_index=True, sort=False)\n",
    "df.drop_duplicates(['text'], inplace = True,keep='last')\n",
    "df.head()"
   ]
  },
  {
   "cell_type": "code",
   "execution_count": 52,
   "id": "269b1b38",
   "metadata": {},
   "outputs": [
    {
     "name": "stdout",
     "output_type": "stream",
     "text": [
      "Fitting 3 folds for each of 5 candidates, totalling 15 fits\n"
     ]
    },
    {
     "name": "stderr",
     "output_type": "stream",
     "text": [
      "[Parallel(n_jobs=-1)]: Using backend LokyBackend with 12 concurrent workers.\n",
      "[Parallel(n_jobs=-1)]: Done   2 out of  15 | elapsed:   12.0s remaining:  1.3min\n",
      "[Parallel(n_jobs=-1)]: Done   4 out of  15 | elapsed:   16.6s remaining:   45.7s\n",
      "[Parallel(n_jobs=-1)]: Done   6 out of  15 | elapsed:   17.4s remaining:   26.2s\n",
      "[Parallel(n_jobs=-1)]: Done   8 out of  15 | elapsed:   19.3s remaining:   16.9s\n",
      "[Parallel(n_jobs=-1)]: Done  10 out of  15 | elapsed:   45.3s remaining:   22.6s\n",
      "[Parallel(n_jobs=-1)]: Done  12 out of  15 | elapsed:   46.0s remaining:   11.4s\n",
      "[Parallel(n_jobs=-1)]: Done  15 out of  15 | elapsed:  1.4min finished\n"
     ]
    },
    {
     "data": {
      "text/plain": [
       "GridSearchCV(cv=StratifiedKFold(n_splits=3, random_state=None, shuffle=True),\n",
       "             estimator=Pipeline(steps=[('vect',\n",
       "                                        TfidfVectorizer(max_df=0.8,\n",
       "                                                        stop_words=['i', 'me',\n",
       "                                                                    'my',\n",
       "                                                                    'myself',\n",
       "                                                                    'we', 'our',\n",
       "                                                                    'ours',\n",
       "                                                                    'ourselves',\n",
       "                                                                    'you',\n",
       "                                                                    \"you're\",\n",
       "                                                                    \"you've\",\n",
       "                                                                    \"you'll\",\n",
       "                                                                    \"you'd\",\n",
       "                                                                    'your',\n",
       "                                                                    'yours',\n",
       "                                                                    'yourself',\n",
       "                                                                    'yourselves',\n",
       "                                                                    'he', 'him',\n",
       "                                                                    'his',\n",
       "                                                                    'himself',\n",
       "                                                                    'she',\n",
       "                                                                    \"she's\",\n",
       "                                                                    'her',\n",
       "                                                                    'hers',\n",
       "                                                                    'herself',\n",
       "                                                                    'it',\n",
       "                                                                    \"it's\",\n",
       "                                                                    'its',\n",
       "                                                                    'itself', ...])),\n",
       "                                       ('classifier', MultinomialNB())]),\n",
       "             n_jobs=-1,\n",
       "             param_grid=[{'classifier': [MultinomialNB()]},\n",
       "                         {'classifier': [LogisticRegression()],\n",
       "                          'classifier__penalty': ['l1', 'l2']},\n",
       "                         {'classifier': [RandomForestClassifier(n_estimators=250)],\n",
       "                          'classifier__n_estimators': [100, 250]}],\n",
       "             verbose=10)"
      ]
     },
     "execution_count": 52,
     "metadata": {},
     "output_type": "execute_result"
    }
   ],
   "source": [
    "X_train, X_test, y_train, y_test = train_test_split(df['text'], df['target'])\n",
    "grid.fit(X_train,y_train)"
   ]
  },
  {
   "cell_type": "code",
   "execution_count": 53,
   "id": "bce5df09",
   "metadata": {},
   "outputs": [
    {
     "data": {
      "text/plain": [
       "Pipeline(steps=[('vect',\n",
       "                 TfidfVectorizer(max_df=0.8,\n",
       "                                 stop_words=['i', 'me', 'my', 'myself', 'we',\n",
       "                                             'our', 'ours', 'ourselves', 'you',\n",
       "                                             \"you're\", \"you've\", \"you'll\",\n",
       "                                             \"you'd\", 'your', 'yours',\n",
       "                                             'yourself', 'yourselves', 'he',\n",
       "                                             'him', 'his', 'himself', 'she',\n",
       "                                             \"she's\", 'her', 'hers', 'herself',\n",
       "                                             'it', \"it's\", 'its', 'itself', ...])),\n",
       "                ('classifier', RandomForestClassifier(n_estimators=250))])"
      ]
     },
     "execution_count": 53,
     "metadata": {},
     "output_type": "execute_result"
    }
   ],
   "source": [
    "grid.best_estimator_"
   ]
  },
  {
   "cell_type": "code",
   "execution_count": 54,
   "id": "b7a7827f",
   "metadata": {},
   "outputs": [
    {
     "data": {
      "text/plain": [
       "{'classifier': RandomForestClassifier(n_estimators=250),\n",
       " 'classifier__n_estimators': 250}"
      ]
     },
     "execution_count": 54,
     "metadata": {},
     "output_type": "execute_result"
    }
   ],
   "source": [
    "grid.best_params_"
   ]
  },
  {
   "cell_type": "code",
   "execution_count": 55,
   "id": "29b70431",
   "metadata": {},
   "outputs": [
    {
     "data": {
      "text/plain": [
       "0.9874757844363514"
      ]
     },
     "execution_count": 55,
     "metadata": {},
     "output_type": "execute_result"
    }
   ],
   "source": [
    "grid.best_score_"
   ]
  },
  {
   "cell_type": "code",
   "execution_count": 56,
   "id": "1436e93d",
   "metadata": {},
   "outputs": [
    {
     "data": {
      "text/plain": [
       "0.9868557234527013"
      ]
     },
     "execution_count": 56,
     "metadata": {},
     "output_type": "execute_result"
    }
   ],
   "source": [
    "grid.best_estimator_.score(X_test,y_test)"
   ]
  },
  {
   "cell_type": "markdown",
   "id": "a28c5b93",
   "metadata": {},
   "source": [
    "Procedemos a guardar nuestro mejor modelo para ser utilizado en un futuro sin necesidad de re importar el dataset y volver a ejecutar el código. Se guardará la instancia grid, que cuenta con toda la información necesaria para luego poder realizar un predict."
   ]
  },
  {
   "cell_type": "code",
   "execution_count": 57,
   "id": "89b1f1c4",
   "metadata": {},
   "outputs": [],
   "source": [
    "modelo_text = grid\n",
    "\n",
    "with open('modelos/modelo_text.pkl', 'wb') as m_text:\n",
    "    pickle.dump(modelo_text, m_text)\n"
   ]
  },
  {
   "cell_type": "markdown",
   "id": "7fe1150d",
   "metadata": {},
   "source": [
    "<a id=\"5.3\"></a>\n",
    "### 5.3)Fiteamos el pipeline para la opción 3: Descartar el cuerpo de la noticia"
   ]
  },
  {
   "cell_type": "code",
   "execution_count": 58,
   "id": "8c710a0c",
   "metadata": {},
   "outputs": [
    {
     "name": "stdout",
     "output_type": "stream",
     "text": [
      "Fitting 3 folds for each of 5 candidates, totalling 15 fits\n"
     ]
    },
    {
     "name": "stderr",
     "output_type": "stream",
     "text": [
      "[Parallel(n_jobs=-1)]: Using backend LokyBackend with 12 concurrent workers.\n",
      "[Parallel(n_jobs=-1)]: Done   2 out of  15 | elapsed:    0.6s remaining:    4.2s\n",
      "[Parallel(n_jobs=-1)]: Done   4 out of  15 | elapsed:    0.7s remaining:    2.1s\n",
      "[Parallel(n_jobs=-1)]: Done   6 out of  15 | elapsed:    0.8s remaining:    1.2s\n",
      "[Parallel(n_jobs=-1)]: Done   8 out of  15 | elapsed:    1.2s remaining:    1.1s\n",
      "[Parallel(n_jobs=-1)]: Done  10 out of  15 | elapsed:   11.8s remaining:    5.9s\n",
      "[Parallel(n_jobs=-1)]: Done  12 out of  15 | elapsed:   12.1s remaining:    2.9s\n",
      "[Parallel(n_jobs=-1)]: Done  15 out of  15 | elapsed:   28.3s finished\n"
     ]
    },
    {
     "data": {
      "text/plain": [
       "GridSearchCV(cv=StratifiedKFold(n_splits=3, random_state=None, shuffle=True),\n",
       "             estimator=Pipeline(steps=[('vect',\n",
       "                                        TfidfVectorizer(max_df=0.8,\n",
       "                                                        stop_words=['i', 'me',\n",
       "                                                                    'my',\n",
       "                                                                    'myself',\n",
       "                                                                    'we', 'our',\n",
       "                                                                    'ours',\n",
       "                                                                    'ourselves',\n",
       "                                                                    'you',\n",
       "                                                                    \"you're\",\n",
       "                                                                    \"you've\",\n",
       "                                                                    \"you'll\",\n",
       "                                                                    \"you'd\",\n",
       "                                                                    'your',\n",
       "                                                                    'yours',\n",
       "                                                                    'yourself',\n",
       "                                                                    'yourselves',\n",
       "                                                                    'he', 'him',\n",
       "                                                                    'his',\n",
       "                                                                    'himself',\n",
       "                                                                    'she',\n",
       "                                                                    \"she's\",\n",
       "                                                                    'her',\n",
       "                                                                    'hers',\n",
       "                                                                    'herself',\n",
       "                                                                    'it',\n",
       "                                                                    \"it's\",\n",
       "                                                                    'its',\n",
       "                                                                    'itself', ...])),\n",
       "                                       ('classifier', MultinomialNB())]),\n",
       "             n_jobs=-1,\n",
       "             param_grid=[{'classifier': [MultinomialNB()]},\n",
       "                         {'classifier': [LogisticRegression()],\n",
       "                          'classifier__penalty': ['l1', 'l2']},\n",
       "                         {'classifier': [RandomForestClassifier(n_estimators=250)],\n",
       "                          'classifier__n_estimators': [100, 250]}],\n",
       "             verbose=10)"
      ]
     },
     "execution_count": 58,
     "metadata": {},
     "output_type": "execute_result"
    }
   ],
   "source": [
    "X_train, X_test, y_train, y_test = train_test_split(df['title'], df['target'])\n",
    "grid.fit(X_train,y_train)"
   ]
  },
  {
   "cell_type": "code",
   "execution_count": 59,
   "id": "a2ca3a4d",
   "metadata": {},
   "outputs": [
    {
     "data": {
      "text/plain": [
       "Pipeline(steps=[('vect',\n",
       "                 TfidfVectorizer(max_df=0.8,\n",
       "                                 stop_words=['i', 'me', 'my', 'myself', 'we',\n",
       "                                             'our', 'ours', 'ourselves', 'you',\n",
       "                                             \"you're\", \"you've\", \"you'll\",\n",
       "                                             \"you'd\", 'your', 'yours',\n",
       "                                             'yourself', 'yourselves', 'he',\n",
       "                                             'him', 'his', 'himself', 'she',\n",
       "                                             \"she's\", 'her', 'hers', 'herself',\n",
       "                                             'it', \"it's\", 'its', 'itself', ...])),\n",
       "                ('classifier', LogisticRegression())])"
      ]
     },
     "execution_count": 59,
     "metadata": {},
     "output_type": "execute_result"
    }
   ],
   "source": [
    "grid.best_estimator_"
   ]
  },
  {
   "cell_type": "code",
   "execution_count": 60,
   "id": "b26ceb90",
   "metadata": {},
   "outputs": [
    {
     "data": {
      "text/plain": [
       "{'classifier': LogisticRegression(), 'classifier__penalty': 'l2'}"
      ]
     },
     "execution_count": 60,
     "metadata": {},
     "output_type": "execute_result"
    }
   ],
   "source": [
    "grid.best_params_"
   ]
  },
  {
   "cell_type": "code",
   "execution_count": 61,
   "id": "d70c17d7",
   "metadata": {},
   "outputs": [
    {
     "data": {
      "text/plain": [
       "0.9315829385791239"
      ]
     },
     "execution_count": 61,
     "metadata": {},
     "output_type": "execute_result"
    }
   ],
   "source": [
    "grid.best_score_"
   ]
  },
  {
   "cell_type": "code",
   "execution_count": 62,
   "id": "8817494a",
   "metadata": {},
   "outputs": [
    {
     "data": {
      "text/plain": [
       "0.9335541295797971"
      ]
     },
     "execution_count": 62,
     "metadata": {},
     "output_type": "execute_result"
    }
   ],
   "source": [
    "grid.best_estimator_.score(X_test,y_test)"
   ]
  },
  {
   "cell_type": "markdown",
   "id": "242a1b1f",
   "metadata": {},
   "source": [
    "Procedemos a guardar nuestro mejor modelo para ser utilizado en un futuro sin necesidad de re importar el dataset y volver a ejecutar el código. Se guardará la instancia grid, que cuenta con toda la información necesaria para luego poder realizar un predict."
   ]
  },
  {
   "cell_type": "code",
   "execution_count": 63,
   "id": "53429d07",
   "metadata": {},
   "outputs": [],
   "source": [
    "modelo_title = grid\n",
    "\n",
    "with open('modelos/modelo_title.pkl', 'wb') as m_title:\n",
    "    pickle.dump(modelo_title, m_title)"
   ]
  },
  {
   "cell_type": "markdown",
   "id": "204f6de7",
   "metadata": {},
   "source": [
    "<a id=\"6\"></a>\n",
    "### 6)Conclusiones"
   ]
  },
  {
   "cell_type": "markdown",
   "id": "31a0dc1f",
   "metadata": {},
   "source": [
    "El uso de algoritmos de clasificación de Machine Learning se ha extendido en las últimas décadas y ha dado respuesta a esta necesidad.\n",
    "\n",
    "Sin embargo, estas técnicas no están exentas de inconvenientes como la selección de datos y el sesgo humano en la decisión de algoritmos.\n",
    "\n",
    "En los datasets utilizados nos surge el interrogante de si es confiable el etiquetado de noticias como reales o falsas dado que una fuente de información no garantiza que el 100% de lo que se publica es real, ni tampoco todo el contenido de una noticia puede ser realmente falso.\n",
    "\n",
    "Concluimos que si bien la clasificación a partir de estos modelos puede ser muy útil, no se puede dejar de mencionar que cada modelo que sea creado para predecir o clasificar Fake news estará inevitablemente sujeto a la opinión del seleccionador."
   ]
  },
  {
   "cell_type": "markdown",
   "id": "3d49f05a",
   "metadata": {},
   "source": [
    "<a id=\"7\"></a>\n",
    "## 7)Referencias"
   ]
  },
  {
   "cell_type": "markdown",
   "id": "102a308f",
   "metadata": {},
   "source": [
    "Alonso Valenzuela, J. C. (2020). Detección de Fake News mediante técnicas de Deep Learning. Tesis de grado. Escuela Técnica Superior de Ingeniería Infomática. Universidad de Sevilla. Disponible en línea en: https://idus.us.es/handle/11441/127048"
   ]
  }
 ],
 "metadata": {
  "kernelspec": {
   "display_name": "Python 3 (ipykernel)",
   "language": "python",
   "name": "python3"
  },
  "language_info": {
   "codemirror_mode": {
    "name": "ipython",
    "version": 3
   },
   "file_extension": ".py",
   "mimetype": "text/x-python",
   "name": "python",
   "nbconvert_exporter": "python",
   "pygments_lexer": "ipython3",
   "version": "3.8.12"
  }
 },
 "nbformat": 4,
 "nbformat_minor": 5
}
