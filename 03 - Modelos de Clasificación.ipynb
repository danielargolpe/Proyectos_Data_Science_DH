{
 "cells": [
  {
   "cell_type": "markdown",
   "id": "72d7c2ea",
   "metadata": {},
   "source": [
    "#            TERCER DESAFÍO DH - GRUPO 7"
   ]
  },
  {
   "cell_type": "markdown",
   "id": "0cc413e0",
   "metadata": {},
   "source": [
    "### Integrantes Grupo:\n",
    "    Daniela Rodriguez Golpe\n",
    "    Mercedes Dorado\n",
    "    Matías Chaves\n",
    "    Edgar Wendler\n",
    "    Nashira Calvo"
   ]
  },
  {
   "cell_type": "markdown",
   "id": "2151d3f7",
   "metadata": {},
   "source": [
    "> El objetivo del trabajo es resolver un problema de clasificación con al menos tres modelos de clasificación presentados en el curso."
   ]
  },
  {
   "cell_type": "markdown",
   "id": "598daa16",
   "metadata": {},
   "source": [
    "## OBJETIVOS"
   ]
  },
  {
   "cell_type": "markdown",
   "id": "046da662",
   "metadata": {},
   "source": [
    "Para solucionar el problema de clasificación, se trabajará de la siguiente forma:\n",
    "<br>\n",
    " 1. Seleccionar los datos a modelar.<br>\n",
    " 2. Entrenar al menos tres modelos de clasificación distintos sobre estos datos.<br>\n",
    " 3. Evaluar la performance de los modelos y comparar ventajas y desventajas de cada uno.<br>\n",
    " 4. Determinar la importancia de las features incluidas en la predicción. Interpretar.<br>   "
   ]
  },
  {
   "cell_type": "markdown",
   "id": "202d3035",
   "metadata": {},
   "source": [
    "## 1. SELECCIONAR LOS DATOS A MODELAR"
   ]
  },
  {
   "cell_type": "markdown",
   "id": "5dde5cdf",
   "metadata": {},
   "source": [
    "##### Diccionario de variables incluidas en la base de datos"
   ]
  },
  {
   "cell_type": "markdown",
   "id": "1662bda4",
   "metadata": {},
   "source": [
    " |Variable| Descripción| \n",
    " |-------|--------|\n",
    " |Index| Index Autogenerado  (no util)| \n",
    " |fixed acidity| valor de acidez| \n",
    " |volatile acidity| valor de acidez volátil| \n",
    " |citric acid| contenido de ácido cítrico| \n",
    " |residual sugar| contenido  de azúcares residuales| \n",
    " |chlorides| contenido de cloruros| \n",
    " |free sulfur dioxide| contenido de dióxido de azufre libre| \n",
    " |total sulfur dioxide| contenido de dióxido de azufre total | \n",
    " |density| densidad | \n",
    " |pH| valor de pH | \n",
    " |sulphates| contenido de sulfatos | \n",
    " |alcohol| graduación alcohólica | \n",
    " |quality | score de calidad entre 0 y 10 |\n",
    " |id |  |\n",
    " \n",
    " \n",
    " \n",
    "El presente dataset está relacionado a las variantes rojas de \"Vinho Verde\" de origen portugués. El dataset describe distintas sustancias químicas que se encuentran en el vino y sus efectos en la calidad medido a través de un score. Se observa que las clases están ordenadas pero no balanceadas (por ejemplo: hay mayor cantidad de vinos normales que excelentes o pobres). El objetivo es desarrollar un modelo que permita predecir la calidad del vino utilizando el presente dataset.\n"
   ]
  },
  {
   "cell_type": "code",
   "execution_count": 1,
   "id": "58070262",
   "metadata": {},
   "outputs": [],
   "source": [
    "import numpy as np\n",
    "import pandas as pd\n",
    "import seaborn as sns\n",
    "import re\n"
   ]
  },
  {
   "cell_type": "code",
   "execution_count": 2,
   "id": "c9473408",
   "metadata": {},
   "outputs": [
    {
     "data": {
      "text/html": [
       "<div>\n",
       "<style scoped>\n",
       "    .dataframe tbody tr th:only-of-type {\n",
       "        vertical-align: middle;\n",
       "    }\n",
       "\n",
       "    .dataframe tbody tr th {\n",
       "        vertical-align: top;\n",
       "    }\n",
       "\n",
       "    .dataframe thead th {\n",
       "        text-align: right;\n",
       "    }\n",
       "</style>\n",
       "<table border=\"1\" class=\"dataframe\">\n",
       "  <thead>\n",
       "    <tr style=\"text-align: right;\">\n",
       "      <th></th>\n",
       "      <th>fixed acidity</th>\n",
       "      <th>volatile acidity</th>\n",
       "      <th>citric acid</th>\n",
       "      <th>residual sugar</th>\n",
       "      <th>chlorides</th>\n",
       "      <th>free sulfur dioxide</th>\n",
       "      <th>total sulfur dioxide</th>\n",
       "      <th>density</th>\n",
       "      <th>pH</th>\n",
       "      <th>sulphates</th>\n",
       "      <th>alcohol</th>\n",
       "      <th>quality</th>\n",
       "      <th>Id</th>\n",
       "    </tr>\n",
       "  </thead>\n",
       "  <tbody>\n",
       "    <tr>\n",
       "      <th>0</th>\n",
       "      <td>7.4</td>\n",
       "      <td>0.70</td>\n",
       "      <td>0.00</td>\n",
       "      <td>1.9</td>\n",
       "      <td>0.076</td>\n",
       "      <td>11.0</td>\n",
       "      <td>34.0</td>\n",
       "      <td>0.9978</td>\n",
       "      <td>3.51</td>\n",
       "      <td>0.56</td>\n",
       "      <td>9.4</td>\n",
       "      <td>5</td>\n",
       "      <td>0</td>\n",
       "    </tr>\n",
       "    <tr>\n",
       "      <th>1</th>\n",
       "      <td>7.8</td>\n",
       "      <td>0.88</td>\n",
       "      <td>0.00</td>\n",
       "      <td>2.6</td>\n",
       "      <td>0.098</td>\n",
       "      <td>25.0</td>\n",
       "      <td>67.0</td>\n",
       "      <td>0.9968</td>\n",
       "      <td>3.20</td>\n",
       "      <td>0.68</td>\n",
       "      <td>9.8</td>\n",
       "      <td>5</td>\n",
       "      <td>1</td>\n",
       "    </tr>\n",
       "    <tr>\n",
       "      <th>2</th>\n",
       "      <td>7.8</td>\n",
       "      <td>0.76</td>\n",
       "      <td>0.04</td>\n",
       "      <td>2.3</td>\n",
       "      <td>0.092</td>\n",
       "      <td>15.0</td>\n",
       "      <td>54.0</td>\n",
       "      <td>0.9970</td>\n",
       "      <td>3.26</td>\n",
       "      <td>0.65</td>\n",
       "      <td>9.8</td>\n",
       "      <td>5</td>\n",
       "      <td>2</td>\n",
       "    </tr>\n",
       "    <tr>\n",
       "      <th>3</th>\n",
       "      <td>11.2</td>\n",
       "      <td>0.28</td>\n",
       "      <td>0.56</td>\n",
       "      <td>1.9</td>\n",
       "      <td>0.075</td>\n",
       "      <td>17.0</td>\n",
       "      <td>60.0</td>\n",
       "      <td>0.9980</td>\n",
       "      <td>3.16</td>\n",
       "      <td>0.58</td>\n",
       "      <td>9.8</td>\n",
       "      <td>6</td>\n",
       "      <td>3</td>\n",
       "    </tr>\n",
       "    <tr>\n",
       "      <th>4</th>\n",
       "      <td>7.4</td>\n",
       "      <td>0.70</td>\n",
       "      <td>0.00</td>\n",
       "      <td>1.9</td>\n",
       "      <td>0.076</td>\n",
       "      <td>11.0</td>\n",
       "      <td>34.0</td>\n",
       "      <td>0.9978</td>\n",
       "      <td>3.51</td>\n",
       "      <td>0.56</td>\n",
       "      <td>9.4</td>\n",
       "      <td>5</td>\n",
       "      <td>4</td>\n",
       "    </tr>\n",
       "    <tr>\n",
       "      <th>5</th>\n",
       "      <td>7.4</td>\n",
       "      <td>0.66</td>\n",
       "      <td>0.00</td>\n",
       "      <td>1.8</td>\n",
       "      <td>0.075</td>\n",
       "      <td>13.0</td>\n",
       "      <td>40.0</td>\n",
       "      <td>0.9978</td>\n",
       "      <td>3.51</td>\n",
       "      <td>0.56</td>\n",
       "      <td>9.4</td>\n",
       "      <td>5</td>\n",
       "      <td>5</td>\n",
       "    </tr>\n",
       "    <tr>\n",
       "      <th>6</th>\n",
       "      <td>7.9</td>\n",
       "      <td>0.60</td>\n",
       "      <td>0.06</td>\n",
       "      <td>1.6</td>\n",
       "      <td>0.069</td>\n",
       "      <td>15.0</td>\n",
       "      <td>59.0</td>\n",
       "      <td>0.9964</td>\n",
       "      <td>3.30</td>\n",
       "      <td>0.46</td>\n",
       "      <td>9.4</td>\n",
       "      <td>5</td>\n",
       "      <td>6</td>\n",
       "    </tr>\n",
       "    <tr>\n",
       "      <th>7</th>\n",
       "      <td>7.3</td>\n",
       "      <td>0.65</td>\n",
       "      <td>0.00</td>\n",
       "      <td>1.2</td>\n",
       "      <td>0.065</td>\n",
       "      <td>15.0</td>\n",
       "      <td>21.0</td>\n",
       "      <td>0.9946</td>\n",
       "      <td>3.39</td>\n",
       "      <td>0.47</td>\n",
       "      <td>10.0</td>\n",
       "      <td>7</td>\n",
       "      <td>7</td>\n",
       "    </tr>\n",
       "    <tr>\n",
       "      <th>8</th>\n",
       "      <td>7.8</td>\n",
       "      <td>0.58</td>\n",
       "      <td>0.02</td>\n",
       "      <td>2.0</td>\n",
       "      <td>0.073</td>\n",
       "      <td>9.0</td>\n",
       "      <td>18.0</td>\n",
       "      <td>0.9968</td>\n",
       "      <td>3.36</td>\n",
       "      <td>0.57</td>\n",
       "      <td>9.5</td>\n",
       "      <td>7</td>\n",
       "      <td>8</td>\n",
       "    </tr>\n",
       "    <tr>\n",
       "      <th>9</th>\n",
       "      <td>6.7</td>\n",
       "      <td>0.58</td>\n",
       "      <td>0.08</td>\n",
       "      <td>1.8</td>\n",
       "      <td>0.097</td>\n",
       "      <td>15.0</td>\n",
       "      <td>65.0</td>\n",
       "      <td>0.9959</td>\n",
       "      <td>3.28</td>\n",
       "      <td>0.54</td>\n",
       "      <td>9.2</td>\n",
       "      <td>5</td>\n",
       "      <td>10</td>\n",
       "    </tr>\n",
       "  </tbody>\n",
       "</table>\n",
       "</div>"
      ],
      "text/plain": [
       "   fixed acidity  volatile acidity  citric acid  residual sugar  chlorides  \\\n",
       "0            7.4              0.70         0.00             1.9      0.076   \n",
       "1            7.8              0.88         0.00             2.6      0.098   \n",
       "2            7.8              0.76         0.04             2.3      0.092   \n",
       "3           11.2              0.28         0.56             1.9      0.075   \n",
       "4            7.4              0.70         0.00             1.9      0.076   \n",
       "5            7.4              0.66         0.00             1.8      0.075   \n",
       "6            7.9              0.60         0.06             1.6      0.069   \n",
       "7            7.3              0.65         0.00             1.2      0.065   \n",
       "8            7.8              0.58         0.02             2.0      0.073   \n",
       "9            6.7              0.58         0.08             1.8      0.097   \n",
       "\n",
       "   free sulfur dioxide  total sulfur dioxide  density    pH  sulphates  \\\n",
       "0                 11.0                  34.0   0.9978  3.51       0.56   \n",
       "1                 25.0                  67.0   0.9968  3.20       0.68   \n",
       "2                 15.0                  54.0   0.9970  3.26       0.65   \n",
       "3                 17.0                  60.0   0.9980  3.16       0.58   \n",
       "4                 11.0                  34.0   0.9978  3.51       0.56   \n",
       "5                 13.0                  40.0   0.9978  3.51       0.56   \n",
       "6                 15.0                  59.0   0.9964  3.30       0.46   \n",
       "7                 15.0                  21.0   0.9946  3.39       0.47   \n",
       "8                  9.0                  18.0   0.9968  3.36       0.57   \n",
       "9                 15.0                  65.0   0.9959  3.28       0.54   \n",
       "\n",
       "   alcohol  quality  Id  \n",
       "0      9.4        5   0  \n",
       "1      9.8        5   1  \n",
       "2      9.8        5   2  \n",
       "3      9.8        6   3  \n",
       "4      9.4        5   4  \n",
       "5      9.4        5   5  \n",
       "6      9.4        5   6  \n",
       "7     10.0        7   7  \n",
       "8      9.5        7   8  \n",
       "9      9.2        5  10  "
      ]
     },
     "execution_count": 2,
     "metadata": {},
     "output_type": "execute_result"
    }
   ],
   "source": [
    "#Importando base de datos\n",
    "data = pd.read_csv('data/WineQT.csv')\n",
    "data.head(10)\n"
   ]
  },
  {
   "cell_type": "code",
   "execution_count": 3,
   "id": "8778c769",
   "metadata": {},
   "outputs": [
    {
     "name": "stdout",
     "output_type": "stream",
     "text": [
      "<class 'pandas.core.frame.DataFrame'>\n",
      "RangeIndex: 1143 entries, 0 to 1142\n",
      "Data columns (total 13 columns):\n",
      " #   Column                Non-Null Count  Dtype  \n",
      "---  ------                --------------  -----  \n",
      " 0   fixed acidity         1143 non-null   float64\n",
      " 1   volatile acidity      1143 non-null   float64\n",
      " 2   citric acid           1143 non-null   float64\n",
      " 3   residual sugar        1143 non-null   float64\n",
      " 4   chlorides             1143 non-null   float64\n",
      " 5   free sulfur dioxide   1143 non-null   float64\n",
      " 6   total sulfur dioxide  1143 non-null   float64\n",
      " 7   density               1143 non-null   float64\n",
      " 8   pH                    1143 non-null   float64\n",
      " 9   sulphates             1143 non-null   float64\n",
      " 10  alcohol               1143 non-null   float64\n",
      " 11  quality               1143 non-null   int64  \n",
      " 12  Id                    1143 non-null   int64  \n",
      "dtypes: float64(11), int64(2)\n",
      "memory usage: 116.2 KB\n"
     ]
    }
   ],
   "source": [
    "#La base de datos contiene 1143 entradas con 13 columnas en donde todas contienen información util para el analisis\n",
    "data.info()"
   ]
  },
  {
   "cell_type": "code",
   "execution_count": 4,
   "id": "2d15bc6a",
   "metadata": {},
   "outputs": [
    {
     "data": {
      "text/plain": [
       "Index(['fixed acidity', 'volatile acidity', 'citric acid', 'residual sugar',\n",
       "       'chlorides', 'free sulfur dioxide', 'total sulfur dioxide', 'density',\n",
       "       'pH', 'sulphates', 'alcohol', 'quality', 'Id'],\n",
       "      dtype='object')"
      ]
     },
     "execution_count": 4,
     "metadata": {},
     "output_type": "execute_result"
    }
   ],
   "source": [
    "#Las columnas contenidas en la base de datos, estas ya  estan explicadas en el diccionario que armamos\n",
    "data.columns"
   ]
  },
  {
   "cell_type": "code",
   "execution_count": 5,
   "id": "313d756a",
   "metadata": {},
   "outputs": [
    {
     "data": {
      "text/plain": [
       "fixed acidity             91\n",
       "volatile acidity         135\n",
       "citric acid               77\n",
       "residual sugar            80\n",
       "chlorides                131\n",
       "free sulfur dioxide       53\n",
       "total sulfur dioxide     138\n",
       "density                  388\n",
       "pH                        87\n",
       "sulphates                 89\n",
       "alcohol                   61\n",
       "quality                    6\n",
       "Id                      1143\n",
       "dtype: int64"
      ]
     },
     "execution_count": 5,
     "metadata": {},
     "output_type": "execute_result"
    }
   ],
   "source": [
    "# Es una base datos con grandes cantidades de valores unicos por variable.\n",
    "data.nunique()"
   ]
  },
  {
   "cell_type": "code",
   "execution_count": 6,
   "id": "c4ee5651",
   "metadata": {},
   "outputs": [
    {
     "data": {
      "text/plain": [
       "5    483\n",
       "6    462\n",
       "7    143\n",
       "4     33\n",
       "8     16\n",
       "3      6\n",
       "Name: quality, dtype: int64"
      ]
     },
     "execution_count": 6,
     "metadata": {},
     "output_type": "execute_result"
    }
   ],
   "source": [
    "data['quality'].value_counts()"
   ]
  },
  {
   "cell_type": "code",
   "execution_count": 7,
   "id": "437fb718",
   "metadata": {},
   "outputs": [
    {
     "data": {
      "text/plain": [
       "5    0.422572\n",
       "Name: quality, dtype: float64"
      ]
     },
     "execution_count": 7,
     "metadata": {},
     "output_type": "execute_result"
    }
   ],
   "source": [
    "#Calculamos la hipotesis nula\n",
    "data['quality'].value_counts().head(1)/len(data['quality'])"
   ]
  },
  {
   "cell_type": "code",
   "execution_count": 8,
   "id": "afef2c23",
   "metadata": {},
   "outputs": [
    {
     "data": {
      "text/plain": [
       "fixed acidity           0.0\n",
       "volatile acidity        0.0\n",
       "citric acid             0.0\n",
       "residual sugar          0.0\n",
       "chlorides               0.0\n",
       "free sulfur dioxide     0.0\n",
       "total sulfur dioxide    0.0\n",
       "density                 0.0\n",
       "pH                      0.0\n",
       "sulphates               0.0\n",
       "alcohol                 0.0\n",
       "quality                 0.0\n",
       "Id                      0.0\n",
       "dtype: float64"
      ]
     },
     "execution_count": 8,
     "metadata": {},
     "output_type": "execute_result"
    }
   ],
   "source": [
    "#EVALUAMOS LA EXISTENCIA DE MISSING VALUES\n",
    "# CANTIDAD DE MISSING VALUES\n",
    "data.isna().sum()\n",
    "#porcentaje de NaN en la base de datos\n",
    "data.isna().sum()/data.shape[0]\n",
    "#print(len('datapro'))"
   ]
  },
  {
   "cell_type": "code",
   "execution_count": 9,
   "id": "6fc8b89e",
   "metadata": {},
   "outputs": [
    {
     "data": {
      "text/plain": [
       "array([[<AxesSubplot:title={'center':'fixed acidity'}>,\n",
       "        <AxesSubplot:title={'center':'volatile acidity'}>,\n",
       "        <AxesSubplot:title={'center':'citric acid'}>,\n",
       "        <AxesSubplot:title={'center':'residual sugar'}>],\n",
       "       [<AxesSubplot:title={'center':'chlorides'}>,\n",
       "        <AxesSubplot:title={'center':'free sulfur dioxide'}>,\n",
       "        <AxesSubplot:title={'center':'total sulfur dioxide'}>,\n",
       "        <AxesSubplot:title={'center':'density'}>],\n",
       "       [<AxesSubplot:title={'center':'pH'}>,\n",
       "        <AxesSubplot:title={'center':'sulphates'}>,\n",
       "        <AxesSubplot:title={'center':'alcohol'}>,\n",
       "        <AxesSubplot:title={'center':'quality'}>],\n",
       "       [<AxesSubplot:title={'center':'Id'}>, <AxesSubplot:>,\n",
       "        <AxesSubplot:>, <AxesSubplot:>]], dtype=object)"
      ]
     },
     "execution_count": 9,
     "metadata": {},
     "output_type": "execute_result"
    },
    {
     "data": {
      "image/png": "[encoded data removed]",
      "text/plain": [
       "<Figure size 1440x720 with 16 Axes>"
      ]
     },
     "metadata": {
      "needs_background": "light"
     },
     "output_type": "display_data"
    }
   ],
   "source": [
    "data.hist(bins=50,figsize=(20,10))\n",
    "# En la base de datos existe un gran problema de outliers, los histogramas se muestran hacia la izquiera\n",
    "# La unica variable que parece no tener grandes problemas es rooms, pero recodemos que tiene muy poca información."
   ]
  },
  {
   "cell_type": "markdown",
   "id": "6757784c",
   "metadata": {},
   "source": [
    "## 2. ENTRENAMIENTO DE DISTINTOS MODELOS DE CLASIFICACIÓN"
   ]
  },
  {
   "cell_type": "markdown",
   "id": "d2553fd0",
   "metadata": {},
   "source": [
    "### 2.1 KNN"
   ]
  },
  {
   "cell_type": "code",
   "execution_count": 10,
   "id": "037f2620",
   "metadata": {},
   "outputs": [
    {
     "name": "stdout",
     "output_type": "stream",
     "text": [
      "   fixed acidity  volatile acidity  citric acid  residual sugar  chlorides  \\\n",
      "0            7.4              0.70         0.00             1.9      0.076   \n",
      "1            7.8              0.88         0.00             2.6      0.098   \n",
      "2            7.8              0.76         0.04             2.3      0.092   \n",
      "3           11.2              0.28         0.56             1.9      0.075   \n",
      "4            7.4              0.70         0.00             1.9      0.076   \n",
      "\n",
      "   free sulfur dioxide  total sulfur dioxide  density    pH  sulphates  \\\n",
      "0                 11.0                  34.0   0.9978  3.51       0.56   \n",
      "1                 25.0                  67.0   0.9968  3.20       0.68   \n",
      "2                 15.0                  54.0   0.9970  3.26       0.65   \n",
      "3                 17.0                  60.0   0.9980  3.16       0.58   \n",
      "4                 11.0                  34.0   0.9978  3.51       0.56   \n",
      "\n",
      "   alcohol  \n",
      "0      9.4  \n",
      "1      9.8  \n",
      "2      9.8  \n",
      "3      9.8  \n",
      "4      9.4  \n"
     ]
    },
    {
     "data": {
      "text/plain": [
       "0    5\n",
       "1    5\n",
       "2    5\n",
       "3    6\n",
       "4    5\n",
       "Name: quality, dtype: int64"
      ]
     },
     "execution_count": 10,
     "metadata": {},
     "output_type": "execute_result"
    }
   ],
   "source": [
    "# Volcamos los datos a un DataFrame. No seleccionamos la variable id ya que aporta valor predictivo\n",
    "X = pd.DataFrame(data[['fixed acidity', 'volatile acidity', 'citric acid', 'residual sugar',\n",
    "       'chlorides', 'free sulfur dioxide', 'total sulfur dioxide', 'density',\n",
    "       'pH', 'sulphates', 'alcohol']])\n",
    "y = data['quality']\n",
    "print(X.head())\n",
    "y.head()"
   ]
  },
  {
   "cell_type": "code",
   "execution_count": 11,
   "id": "f1b050ea",
   "metadata": {},
   "outputs": [
    {
     "data": {
      "text/plain": [
       "array([[-0.52157961,  0.93933222, -1.36502663, ...,  1.27069495,\n",
       "        -0.57365783, -0.96338181],\n",
       "       [-0.29259344,  1.94181282, -1.36502663, ..., -0.70892755,\n",
       "         0.1308811 , -0.59360107],\n",
       "       [-0.29259344,  1.27349242, -1.16156762, ..., -0.32577481,\n",
       "        -0.04525363, -0.59360107],\n",
       "       ...,\n",
       "       [-1.20853813,  0.38239855, -0.9581086 , ...,  0.88754221,\n",
       "        -0.45623467,  0.05351522],\n",
       "       [-1.38027776,  0.10393172, -0.8563791 , ...,  1.33455374,\n",
       "         0.60057372,  0.70063152],\n",
       "       [-1.38027776,  0.6330187 , -0.75464959, ...,  1.65384769,\n",
       "         0.30701583, -0.22382033]])"
      ]
     },
     "execution_count": 11,
     "metadata": {},
     "output_type": "execute_result"
    }
   ],
   "source": [
    "# Utilizamos sklearn para estandarizar la matriz de features\n",
    "from sklearn.preprocessing import StandardScaler\n",
    "scaler = StandardScaler()\n",
    "X = scaler.fit_transform(X)\n",
    "X"
   ]
  },
  {
   "cell_type": "code",
   "execution_count": 12,
   "id": "f4d31b9f",
   "metadata": {},
   "outputs": [
    {
     "name": "stdout",
     "output_type": "stream",
     "text": [
      "Hay 857 datos de entrenamiento y 286 datos de testeo\n"
     ]
    }
   ],
   "source": [
    "from sklearn.model_selection import train_test_split\n",
    "\n",
    "X_train, X_test, y_train, y_test = train_test_split(X, y, random_state=5)\n",
    "print('Hay', y_train.shape[0], 'datos de entrenamiento y', y_test.shape[0], 'datos de testeo')"
   ]
  },
  {
   "cell_type": "code",
   "execution_count": 13,
   "id": "467cb687",
   "metadata": {},
   "outputs": [
    {
     "name": "stdout",
     "output_type": "stream",
     "text": [
      "Medias: [-0.02  0.01 -0.02  0.01  0.02  0.01 -0.01 -0.02 -0.01 -0.02  0.  ]\n",
      "Desvio: [0.99 1.02 0.99 1.03 1.08 1.01 0.96 1.01 1.   0.99 1.01]\n"
     ]
    }
   ],
   "source": [
    "# Verificamos que las variables ahora tengan media 0 y desvío 1.\n",
    "print('Medias:', np.mean(X_train, axis=0).round(2))\n",
    "print('Desvio:', np.std(X_train, axis=0).round(2))"
   ]
  },
  {
   "cell_type": "code",
   "execution_count": 14,
   "id": "f0ec5404",
   "metadata": {},
   "outputs": [],
   "source": [
    "# Importamos la clase KNeighborsClassifier de módulo neighbors\n",
    "from sklearn.neighbors import KNeighborsClassifier"
   ]
  },
  {
   "cell_type": "code",
   "execution_count": 15,
   "id": "1a1bf717",
   "metadata": {},
   "outputs": [],
   "source": [
    "# Instanciamos el modelo especificando el valor deseado de k con el argumento n_neighbors\n",
    "knn = KNeighborsClassifier(n_neighbors=5)"
   ]
  },
  {
   "cell_type": "code",
   "execution_count": 16,
   "id": "28f66f59",
   "metadata": {},
   "outputs": [],
   "source": [
    "# Ajustamos a los datos de entrenamiento\n",
    "knn.fit(X_train, y_train);"
   ]
  },
  {
   "cell_type": "markdown",
   "id": "0ae3643a",
   "metadata": {},
   "source": [
    "KNN no se encarga de estimar ningún parámetro (como los $\\beta$ de la regresión lineal, por ejemplo). Otra diferencia con respecto a los modelos que hemos estudiado hasta ahora es que KNN requiere comparar cada dato de <i>test</i> contra <b>todos</b> los datos de <i>train</i> para poder detectar los vecinos más cercanos (lo cual lo hace un tanto costoso cuando estamos trabajando con datasets de gran tamaño). Por estos motivos, decimos que KNN pertence a la clase de modelos <b>no paramétricos basados en instancias</b>."
   ]
  },
  {
   "cell_type": "markdown",
   "id": "21d7fb83",
   "metadata": {},
   "source": [
    "Podemos visualizar las \"áreas de influencia\" de cada clase, que delimitan lo que formalmente se conoce como **fronteras de decisión**: "
   ]
  },
  {
   "cell_type": "code",
   "execution_count": 17,
   "id": "ccb17675",
   "metadata": {},
   "outputs": [],
   "source": [
    "# Predecimos etiquetas para los datos de test\n",
    "y_pred = knn.predict(X_test)"
   ]
  },
  {
   "cell_type": "code",
   "execution_count": 18,
   "id": "f3174a86",
   "metadata": {},
   "outputs": [
    {
     "data": {
      "text/plain": [
       "0.5734265734265734"
      ]
     },
     "execution_count": 18,
     "metadata": {},
     "output_type": "execute_result"
    }
   ],
   "source": [
    "from sklearn.metrics import accuracy_score\n",
    "accuracy_score(y_test, y_pred)"
   ]
  },
  {
   "cell_type": "code",
   "execution_count": 19,
   "id": "e05997ff",
   "metadata": {},
   "outputs": [
    {
     "data": {
      "text/plain": [
       "Text(0, 0.5, 'Cross Validation Accuracy')"
      ]
     },
     "execution_count": 19,
     "metadata": {},
     "output_type": "execute_result"
    },
    {
     "data": {
      "image/png": "[encoded data removed]",
      "text/plain": [
       "<Figure size 432x288 with 1 Axes>"
      ]
     },
     "metadata": {
      "needs_background": "light"
     },
     "output_type": "display_data"
    }
   ],
   "source": [
    "from sklearn.model_selection import cross_val_score\n",
    "import matplotlib.pyplot as plt\n",
    "k_range=range(5,50)\n",
    "k_scores=[]\n",
    "for k in k_range:\n",
    "    knn=KNeighborsClassifier (n_neighbors=k)\n",
    "    scores=cross_val_score (knn, X_train, y_train, cv=4, scoring=\"accuracy\")\n",
    "    k_scores.append (scores.mean())\n",
    "\n",
    "plt.plot (k_range, k_scores)\n",
    "plt.xlabel( \"Valores de K para KNN\")\n",
    "plt.ylabel(\"Cross Validation Accuracy\")"
   ]
  },
  {
   "cell_type": "markdown",
   "id": "224aa5c6",
   "metadata": {},
   "source": [
    "Observamos que al aumentar el número de vecinos, el accuracy mejora"
   ]
  },
  {
   "cell_type": "code",
   "execution_count": 20,
   "id": "4283e9ec",
   "metadata": {},
   "outputs": [
    {
     "data": {
      "text/plain": [
       "GridSearchCV(cv=4, estimator=KNeighborsClassifier(),\n",
       "             param_grid={'metric': ('minkowski', 'chebyshev'),\n",
       "                         'n_neighbors': range(5, 50),\n",
       "                         'weights': ('uniform', 'distance')},\n",
       "             scoring='accuracy')"
      ]
     },
     "execution_count": 20,
     "metadata": {},
     "output_type": "execute_result"
    }
   ],
   "source": [
    "#GridSearchCV \n",
    "from sklearn.model_selection import GridSearchCV\n",
    "k_range=range(5,50)\n",
    "knn=KNeighborsClassifier()\n",
    "\n",
    "weight_options=('uniform', 'distance')\n",
    "metric_options=('minkowski', 'chebyshev')\n",
    "param_grid = dict (n_neighbors=k_range, weights=weight_options,metric=metric_options)\n",
    "grid= GridSearchCV (knn, param_grid, cv=4, scoring=\"accuracy\")\n",
    "grid.fit (X_train,y_train)\n"
   ]
  },
  {
   "cell_type": "code",
   "execution_count": 21,
   "id": "6d676cfb",
   "metadata": {},
   "outputs": [
    {
     "data": {
      "text/plain": [
       "dict_keys(['mean_fit_time', 'std_fit_time', 'mean_score_time', 'std_score_time', 'param_metric', 'param_n_neighbors', 'param_weights', 'params', 'split0_test_score', 'split1_test_score', 'split2_test_score', 'split3_test_score', 'mean_test_score', 'std_test_score', 'rank_test_score'])"
      ]
     },
     "execution_count": 21,
     "metadata": {},
     "output_type": "execute_result"
    }
   ],
   "source": [
    "grid.cv_results_.keys()"
   ]
  },
  {
   "cell_type": "code",
   "execution_count": 22,
   "id": "e148d2bd",
   "metadata": {},
   "outputs": [
    {
     "data": {
      "text/plain": [
       "KNeighborsClassifier(n_neighbors=49, weights='distance')"
      ]
     },
     "metadata": {},
     "output_type": "display_data"
    },
    {
     "data": {
      "text/plain": [
       "0.6569278417735275"
      ]
     },
     "metadata": {},
     "output_type": "display_data"
    },
    {
     "data": {
      "text/plain": [
       "{'metric': 'minkowski', 'n_neighbors': 49, 'weights': 'distance'}"
      ]
     },
     "metadata": {},
     "output_type": "display_data"
    }
   ],
   "source": [
    "display(grid.best_estimator_,grid.best_score_,grid.best_params_)\n"
   ]
  },
  {
   "cell_type": "markdown",
   "id": "097de921",
   "metadata": {},
   "source": [
    "Calculo de accuracy con el dataframe de testeo:"
   ]
  },
  {
   "cell_type": "code",
   "execution_count": 23,
   "id": "b7df5164",
   "metadata": {},
   "outputs": [
    {
     "data": {
      "text/plain": [
       "0.6398601398601399"
      ]
     },
     "execution_count": 23,
     "metadata": {},
     "output_type": "execute_result"
    }
   ],
   "source": [
    "knn_final = KNeighborsClassifier(metric='minkowski', n_neighbors=49, weights='distance')\n",
    "knn_final.fit(X_train, y_train)\n",
    "y_pred = knn_final.predict(X_test)\n",
    "accuracy_score(y_test, y_pred)"
   ]
  },
  {
   "cell_type": "markdown",
   "id": "c0aa0d50",
   "metadata": {},
   "source": [
    "El accuracy obtenido es de 0,65 para el dataset de entrenamiento y 0,64 para el de testeo. \n",
    "Concluimos que el modelo tiene capacidad predictiva ya que nuestra hipótesis nula es de 0,42"
   ]
  },
  {
   "cell_type": "markdown",
   "id": "fe0bbda8",
   "metadata": {},
   "source": [
    "### 2.2 Regresión logística"
   ]
  },
  {
   "cell_type": "code",
   "execution_count": 24,
   "id": "d836fbb7",
   "metadata": {},
   "outputs": [
    {
     "data": {
      "text/plain": [
       "0.5594405594405595"
      ]
     },
     "execution_count": 24,
     "metadata": {},
     "output_type": "execute_result"
    }
   ],
   "source": [
    "from sklearn.linear_model import LogisticRegression\n",
    "# Instanciamos un objeto de esa clase\n",
    "logistic_regression = LogisticRegression(penalty='none', solver='newton-cg')\n",
    "# Ajustamos esta instancia con los datos de entrenamiento\n",
    "logistic_regression.fit(X_train, y_train)\n",
    "#Calculamos el accuracy score\n",
    "y_pred = logistic_regression.predict(X_test)\n",
    "accuracy_score(y_test, y_pred)\n"
   ]
  },
  {
   "cell_type": "markdown",
   "id": "99ba0bac",
   "metadata": {},
   "source": [
    "Asociamos el bajo rendimiento del modelo a que nuestras variables siguen una distribución normal y este modelo ajusta de manera lineal."
   ]
  },
  {
   "cell_type": "markdown",
   "id": "82999e69",
   "metadata": {},
   "source": [
    "### 2.3 Naive Bayes"
   ]
  },
  {
   "cell_type": "markdown",
   "id": "1e204086",
   "metadata": {},
   "source": [
    "Seleccionamos GaussianNB ya que las variables features siguen una distribución normal"
   ]
  },
  {
   "cell_type": "code",
   "execution_count": 25,
   "id": "8777131a",
   "metadata": {},
   "outputs": [
    {
     "data": {
      "text/plain": [
       "0.48951048951048953"
      ]
     },
     "execution_count": 25,
     "metadata": {},
     "output_type": "execute_result"
    }
   ],
   "source": [
    "from sklearn.naive_bayes import GaussianNB\n",
    "# Instanciamos un objeto de esa clase\n",
    "NB_Gauss = GaussianNB()\n",
    "# Ajustamos esta instancia con los datos de entrenamiento\n",
    "NB_Gauss.fit(X_train, y_train)\n",
    "#Calculamos el accuracy score\n",
    "y_pred = NB_Gauss.predict(X_test)\n",
    "accuracy_score(y_test, y_pred)"
   ]
  },
  {
   "cell_type": "markdown",
   "id": "a27cee2a",
   "metadata": {},
   "source": [
    "Asociamos el bajo rendimiento del modelo a problemas de realación entre variables.\n"
   ]
  },
  {
   "cell_type": "markdown",
   "id": "dc3ae672",
   "metadata": {},
   "source": [
    "### 2.4 Reevaluación de los modelos disminuyendo la cantidad de categorías"
   ]
  },
  {
   "cell_type": "markdown",
   "id": "67dcf46e",
   "metadata": {},
   "source": [
    "La propuesta para este inciso será comparar el rendimiento de los modelos si disminuimos la cantidad de categorías en nuestra variable target."
   ]
  },
  {
   "cell_type": "code",
   "execution_count": 26,
   "id": "e62590e5",
   "metadata": {},
   "outputs": [
    {
     "data": {
      "text/plain": [
       "5    483\n",
       "6    462\n",
       "7    143\n",
       "4     33\n",
       "8     16\n",
       "3      6\n",
       "Name: quality, dtype: int64"
      ]
     },
     "execution_count": 26,
     "metadata": {},
     "output_type": "execute_result"
    }
   ],
   "source": [
    "y.value_counts()"
   ]
  },
  {
   "cell_type": "markdown",
   "id": "fe854c75",
   "metadata": {},
   "source": [
    "Divimos en tres categorías:\n",
    "1. Insuficiente: Esta categoría incluirá las puntuaciones 3 y 4\n",
    "2. Regular: Puntuaciones 5 y 6\n",
    "3. Excelente: Puntuaciones 7 y 8"
   ]
  },
  {
   "cell_type": "code",
   "execution_count": 27,
   "id": "700369f3",
   "metadata": {},
   "outputs": [
    {
     "data": {
      "text/plain": [
       "2    945\n",
       "3    159\n",
       "1     39\n",
       "Name: quality, dtype: int64"
      ]
     },
     "execution_count": 27,
     "metadata": {},
     "output_type": "execute_result"
    }
   ],
   "source": [
    "y2 = y.apply(lambda x: 1 if x == 3 else 1 if x == 4 else 2 if x == 5 else 2 if x == 6 else 3 if x == 7 else 3 if x == 8 else 0)\n",
    "y2.value_counts()"
   ]
  },
  {
   "cell_type": "markdown",
   "id": "eaf6c1fc",
   "metadata": {},
   "source": [
    "De esta forma reducimos la cantidad de categorías a la mitad"
   ]
  },
  {
   "cell_type": "code",
   "execution_count": 28,
   "id": "546347dc",
   "metadata": {},
   "outputs": [
    {
     "name": "stdout",
     "output_type": "stream",
     "text": [
      "0.8267716535433071\n"
     ]
    }
   ],
   "source": [
    "#Nuestra nueva hipótesis nula es:\n",
    "print(945/(945+159+39))"
   ]
  },
  {
   "cell_type": "markdown",
   "id": "62fbbc03",
   "metadata": {},
   "source": [
    "#### KNN\n",
    "Utilizaremos el modelo con los mejores hiperparámetros"
   ]
  },
  {
   "cell_type": "code",
   "execution_count": 29,
   "id": "96efe107",
   "metadata": {},
   "outputs": [
    {
     "name": "stdout",
     "output_type": "stream",
     "text": [
      "Hay 857 datos de entrenamiento y 286 datos de testeo\n"
     ]
    }
   ],
   "source": [
    "X_train, X_test, y_train2, y_test2 = train_test_split(X, y2, random_state=5)\n",
    "print('Hay', y_train2.shape[0], 'datos de entrenamiento y', y_test2.shape[0], 'datos de testeo')"
   ]
  },
  {
   "cell_type": "code",
   "execution_count": 30,
   "id": "77b1b0c6",
   "metadata": {},
   "outputs": [
    {
     "data": {
      "text/plain": [
       "0.8496503496503497"
      ]
     },
     "execution_count": 30,
     "metadata": {},
     "output_type": "execute_result"
    }
   ],
   "source": [
    "knn2 = KNeighborsClassifier(metric='minkowski', n_neighbors=49, weights='distance')\n",
    "knn2.fit(X_train, y_train2)\n",
    "y_pred2 = knn2.predict(X_test)\n",
    "accuracy_score(y_test2, y_pred2)"
   ]
  },
  {
   "cell_type": "markdown",
   "id": "d16cc6c3",
   "metadata": {},
   "source": [
    "El accuracy obtenido es de 0,850 para el dataset de de testeo. \n",
    "Concluimos que modificar la cantidad de clases no mejoró significativamente la capacidad predictiva de nuestro modelo ya que nuestra hipótesis nula es de 0,827"
   ]
  },
  {
   "cell_type": "markdown",
   "id": "955fccde",
   "metadata": {},
   "source": [
    "#### Regresión logística"
   ]
  },
  {
   "cell_type": "code",
   "execution_count": 31,
   "id": "00d41829",
   "metadata": {},
   "outputs": [
    {
     "data": {
      "text/plain": [
       "0.8216783216783217"
      ]
     },
     "execution_count": 31,
     "metadata": {},
     "output_type": "execute_result"
    }
   ],
   "source": [
    "# Instanciamos un objeto de esa clase\n",
    "logistic_regression = LogisticRegression(penalty='none', solver='newton-cg')\n",
    "# Ajustamos esta instancia con los datos de entrenamiento\n",
    "logistic_regression.fit(X_train, y_train2)\n",
    "#Calculamos el accuracy score\n",
    "y_pred2 = logistic_regression.predict(X_test)\n",
    "accuracy_score(y_test2, y_pred2)\n"
   ]
  },
  {
   "cell_type": "markdown",
   "id": "251bda03",
   "metadata": {},
   "source": [
    "El accuracy obtenido es de 0,822 para el dataset de testeo. \n",
    "Concluimos que modificar la cantidad de clases no mejoró significativamente la capacidad predictiva de nuestro modelo ya que nuestra hipótesis nula es de 0,827"
   ]
  },
  {
   "cell_type": "markdown",
   "id": "f9cf5922",
   "metadata": {},
   "source": [
    "#### Naive Bayes"
   ]
  },
  {
   "cell_type": "code",
   "execution_count": 32,
   "id": "69dc66f9",
   "metadata": {},
   "outputs": [
    {
     "data": {
      "text/plain": [
       "0.7482517482517482"
      ]
     },
     "execution_count": 32,
     "metadata": {},
     "output_type": "execute_result"
    }
   ],
   "source": [
    "# Instanciamos un objeto de esa clase\n",
    "NB_Gauss = GaussianNB()\n",
    "# Ajustamos esta instancia con los datos de entrenamiento\n",
    "NB_Gauss.fit(X_train, y_train2)\n",
    "#Calculamos el accuracy score\n",
    "y_pred2 = NB_Gauss.predict(X_test)\n",
    "accuracy_score(y_test2, y_pred2)"
   ]
  },
  {
   "cell_type": "markdown",
   "id": "e1785819",
   "metadata": {},
   "source": [
    "El accuracy obtenido es de 0,748 para el dataset de testeo. \n",
    "Concluimos que modificar la cantidad de clases no mejoró significativamente la capacidad predictiva de nuestro modelo ya que nuestra hipótesis nula es de 0,827"
   ]
  },
  {
   "cell_type": "markdown",
   "id": "d89bef03",
   "metadata": {},
   "source": [
    "## 3. EVALUAR LA PERFORMANCE DE LOS MODELOS Y COMPARAR VENTAJAS Y DESVENTAJAS DE CADA UNO"
   ]
  },
  {
   "cell_type": "markdown",
   "id": "2220fe06",
   "metadata": {},
   "source": [
    "Se aplicaron al dataset los modelos KNN, regresión logística y Naive Bayes en una primera instancia utilizando todas las categorías de la variable target y en una segunda instancia disminuyendo la cantidad de categorías en nuestra variable target.\n",
    "\n",
    "|Modelo| accuracy_score|H0 \n",
    " |-------|--------|--------|\n",
    " |Modelos con todas las categorías|||\n",
    " |KNN|0.640|0.420| \n",
    " |Regresión logística|0.559|0.420| \n",
    " |Naive Bayes| 0.490|0.420|\n",
    " |Modelos con categorías reducidas|||\n",
    " |KNN| 0.849|0.827| \n",
    " |Regresión logística|0.822|0.827|\n",
    " |Naive Bayes|0.748|0.827| \n",
    " \n",
    " \n",
    "Comparando los resultados obtenidos concluimos que el mejor modelo a aplicar en este dataset es el de KNN. Si bien el accurancy score aumenta con la reducción de categorías de la variable target en todos los modelos, no se observa un aumento significativo del accuracy score respecto a la hipótesis nula, por lo que se concluye que reducir las categorías de la variable target no  incrementaría la capacidad predictiva del modelo. "
   ]
  },
  {
   "cell_type": "markdown",
   "id": "7530987d",
   "metadata": {},
   "source": [
    "## 4. DETERMINAR LA IMPORTANCIA DE LAS FEATURES INCLUIDAS EN LA PREDICCIÓN"
   ]
  },
  {
   "cell_type": "code",
   "execution_count": 33,
   "id": "0bda6f19",
   "metadata": {},
   "outputs": [],
   "source": [
    "## 4. DETERMINAR LA IMPORTANCIA DE LAS FEATURES INCLUIDAS EN LA PREDICCIÓN PARA EL MODELO LOGIT\n",
    "# Importamos la api.\n",
    "import statsmodels.api as sm\n",
    "import statsmodels.stats.api as sms\n",
    "# Importamos algunas librerias para graficar.\n",
    "%matplotlib inline\n",
    "from matplotlib import pyplot as plt\n",
    "import numpy as np\n"
   ]
  },
  {
   "cell_type": "code",
   "execution_count": 34,
   "id": "f360ffcf",
   "metadata": {},
   "outputs": [],
   "source": [
    "#convertimos el output entre 0 y 1\n",
    "y_01= y/np.linalg.norm(y)\n",
    "X_train, X_test, y01_train, y01_test = train_test_split(X, y_01, random_state=5)"
   ]
  },
  {
   "cell_type": "code",
   "execution_count": 35,
   "id": "c22c37b1",
   "metadata": {},
   "outputs": [
    {
     "name": "stdout",
     "output_type": "stream",
     "text": [
      "Optimization terminated successfully.\n",
      "         Current function value: 0.691422\n",
      "         Iterations 4\n",
      "                           Logit Regression Results                           \n",
      "==============================================================================\n",
      "Dep. Variable:                quality   No. Observations:                  857\n",
      "Model:                          Logit   Df Residuals:                      846\n",
      "Method:                           MLE   Df Model:                           10\n",
      "Date:                Mon, 11 Apr 2022   Pseudo R-squ.:                     inf\n",
      "Time:                        20:30:35   Log-Likelihood:                -592.55\n",
      "converged:                       True   LL-Null:                        0.0000\n",
      "Covariance Type:            nonrobust   LLR p-value:                     1.000\n",
      "==============================================================================\n",
      "                 coef    std err          z      P>|z|      [0.025      0.975]\n",
      "------------------------------------------------------------------------------\n",
      "x1             0.0504      0.191      0.264      0.792      -0.323       0.424\n",
      "x2             0.0015      0.089      0.017      0.987      -0.174       0.177\n",
      "x3             0.0473      0.122      0.386      0.699      -0.193       0.287\n",
      "x4            -0.0156      0.088     -0.177      0.860      -0.188       0.157\n",
      "x5            -0.0695      0.084     -0.827      0.408      -0.234       0.095\n",
      "x6            -0.0471      0.094     -0.501      0.616      -0.231       0.137\n",
      "x7             0.0520      0.102      0.510      0.610      -0.148       0.252\n",
      "x8             0.0047      0.173      0.027      0.978      -0.335       0.344\n",
      "x9             0.0709      0.127      0.560      0.576      -0.177       0.319\n",
      "x10            0.0628      0.086      0.729      0.466      -0.106       0.231\n",
      "x11           -0.0252      0.123     -0.205      0.837      -0.265       0.215\n",
      "==============================================================================\n"
     ]
    },
    {
     "name": "stderr",
     "output_type": "stream",
     "text": [
      "C:\\Users\\Mati-PC\\.conda\\envs\\dhdsblend2021\\lib\\site-packages\\statsmodels\\discrete\\discrete_model.py:3489: RuntimeWarning: divide by zero encountered in double_scalars\n",
      "  return 1 - self.llf/self.llnull\n"
     ]
    }
   ],
   "source": [
    "# Instanciamos el modelo y lo entrenamos\n",
    "log_reg = sm.Logit(y01_train, X_train).fit()\n",
    "print(log_reg.summary())"
   ]
  },
  {
   "cell_type": "markdown",
   "id": "6c38466b",
   "metadata": {},
   "source": [
    "Las  variables no son significativas, el accuracy del modelo logit no es el ideal para este tipo de información.\n",
    "Se observa que, residual sugar, chlorides, free sulfur dioxide afectan de manera negativa a la calidad del vino verde."
   ]
  }
 ],
 "metadata": {
  "kernelspec": {
   "display_name": "Python [conda env:.conda-dhdsblend2021] *",
   "language": "python",
   "name": "conda-env-.conda-dhdsblend2021-py"
  },
  "language_info": {
   "codemirror_mode": {
    "name": "ipython",
    "version": 3
   },
   "file_extension": ".py",
   "mimetype": "text/x-python",
   "name": "python",
   "nbconvert_exporter": "python",
   "pygments_lexer": "ipython3",
   "version": "3.8.12"
  }
 },
 "nbformat": 4,
 "nbformat_minor": 5
}
